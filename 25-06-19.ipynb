{
 "cells": [
  {
   "cell_type": "code",
   "execution_count": null,
   "metadata": {},
   "outputs": [],
   "source": []
  },
  {
   "cell_type": "code",
   "execution_count": 1,
   "metadata": {},
   "outputs": [
    {
     "name": "stdout",
     "output_type": "stream",
     "text": [
      "element found\n"
     ]
    }
   ],
   "source": [
    "def binsear(a,iindex,rindex,taritem):\n",
    "    while(iindex<=rindex):\n",
    "        mindex=iindex+(rindex-iindex)/2;\n",
    "        mindex=int(mindex);\n",
    "        if(a[mindex]==taritem):\n",
    "            return mindex;\n",
    "        if(a[mindex]>taritem):\n",
    "            rindex=mindex-1;\n",
    "        else:\n",
    "            iindex=mindex+1;\n",
    "    return -1;\n",
    "list=[1,4,9,15,25,45,57,88,98];\n",
    "res=binsear(list,0,8,88)\n",
    "if(res!=-1):\n",
    "    \n",
    "    print(\"element found\");\n",
    "else:\n",
    "        \n",
    "    print(\"element not found\");\n"
   ]
  },
  {
   "cell_type": "code",
   "execution_count": 5,
   "metadata": {},
   "outputs": [
    {
     "name": "stdout",
     "output_type": "stream",
     "text": [
      "1 1 2 3 4 5 6 8 76 88 90 [1, 1, 2, 3, 4, 5, 6, 8, 76, 88, 90]\n"
     ]
    }
   ],
   "source": [
    "#bubble sort\n",
    "def bubsor(a):\n",
    "    for i in range(len(a)-1):\n",
    "        for j in range(len(a)-1):\n",
    "            if a[j]>a[j+1]:\n",
    "                \n",
    "                a[j],a[j+1]=a[j+1],a[j];\n",
    "\n",
    "    for i in range(len(a)):\n",
    "        print(a[i],end=\" \");\n",
    "      \n",
    "a=[1,4,5,6,3,2,8,90,88,76,1];\n",
    "bubsor(a);\n",
    "a.sort();\n",
    "print(a);\n"
   ]
  },
  {
   "cell_type": "code",
   "execution_count": 11,
   "metadata": {},
   "outputs": [
    {
     "name": "stdout",
     "output_type": "stream",
     "text": [
      "application\n",
      "r\n"
     ]
    }
   ],
   "source": [
    "#strings\n",
    "str=\"application\"\n",
    "print(str);\n",
    "str2=\"rohith moh\"\n",
    "print(str2[0])"
   ]
  },
  {
   "cell_type": "code",
   "execution_count": 18,
   "metadata": {},
   "outputs": [
    {
     "name": "stdout",
     "output_type": "stream",
     "text": [
      "application\n",
      "str[0]=  a\n",
      "str[:5]=  appli\n",
      "str[5:-2]=  cati\n",
      "str[::5]=  acn\n",
      "str[::-1]=  noitacilppa\n",
      "str[:]=  application\n"
     ]
    }
   ],
   "source": [
    "str=\"application\"\n",
    "print(str);\n",
    "print(\"str[0]= \",str[0]);\n",
    "print(\"str[:5]= \",str[:5]);\n",
    "print(\"str[5:-2]= \",str[5:-2]);\n",
    "print(\"str[::5]= \",str[::5]);\n",
    "print(\"str[::-1]= \",str[::-1]);\n",
    "\n",
    "print(\"str[:]= \",str[:]);\n",
    "\n"
   ]
  },
  {
   "cell_type": "code",
   "execution_count": 26,
   "metadata": {},
   "outputs": [
    {
     "name": "stdout",
     "output_type": "stream",
     "text": [
      "false\n"
     ]
    }
   ],
   "source": [
    "def ispalindrome(s):\n",
    "    if(s==s[::-1]):\n",
    "        return \"true\";\n",
    "    else:\n",
    "        return \"false\";\n",
    "print(ispalindrome(\"python\"));\n",
    "print(ispalindrome(\"jala\"));"
   ]
  },
  {
   "cell_type": "code",
   "execution_count": 24,
   "metadata": {},
   "outputs": [
    {
     "name": "stdout",
     "output_type": "stream",
     "text": [
      "11\n"
     ]
    }
   ],
   "source": [
    "def count(str):\n",
    "    return len(str);\n",
    "print(count(\"application\"));"
   ]
  },
  {
   "cell_type": "code",
   "execution_count": 25,
   "metadata": {},
   "outputs": [
    {
     "data": {
      "text/plain": [
       "5"
      ]
     },
     "execution_count": 25,
     "metadata": {},
     "output_type": "execute_result"
    }
   ],
   "source": [
    "def count(n):\n",
    "    return len(n);\n",
    "count(\"23456\")"
   ]
  },
  {
   "cell_type": "code",
   "execution_count": 5,
   "metadata": {},
   "outputs": [
    {
     "name": "stdout",
     "output_type": "stream",
     "text": [
      "JOKER\n"
     ]
    },
    {
     "data": {
      "text/plain": [
       "'JOKER'"
      ]
     },
     "execution_count": 5,
     "metadata": {},
     "output_type": "execute_result"
    }
   ],
   "source": [
    "def upper(n):\n",
    "    print(n.upper())\n",
    "    return n.upper();\n",
    "\n",
    "upper(\"joker\")\n",
    "    "
   ]
  },
  {
   "cell_type": "code",
   "execution_count": 29,
   "metadata": {},
   "outputs": [
    {
     "data": {
      "text/plain": [
       "False"
      ]
     },
     "execution_count": 29,
     "metadata": {},
     "output_type": "execute_result"
    }
   ],
   "source": [
    "def upper(n):\n",
    "    return n.isupper();\n",
    "upper(\"joker\")\n",
    "    "
   ]
  },
  {
   "cell_type": "code",
   "execution_count": 43,
   "metadata": {},
   "outputs": [
    {
     "name": "stdout",
     "output_type": "stream",
     "text": [
      "['k', 'h', 'a', 'n']\n"
     ]
    }
   ],
   "source": [
    "def countuppercase(a):\n",
    "    list=[];\n",
    "    for i in range(len(a)):\n",
    "    \n",
    "        list.append(a[i]);\n",
    "    print(list);\n",
    "s=\"khan\";\n",
    "countuppercase(s);\n"
   ]
  },
  {
   "cell_type": "code",
   "execution_count": 10,
   "metadata": {},
   "outputs": [
    {
     "name": "stdout",
     "output_type": "stream",
     "text": [
      "1\n"
     ]
    }
   ],
   "source": [
    "def count(s):\n",
    "    l1=list(s);\n",
    "    return len(l1);\n",
    "\n",
    "print(count(\"s\"));"
   ]
  },
  {
   "cell_type": "code",
   "execution_count": 8,
   "metadata": {},
   "outputs": [
    {
     "name": "stdout",
     "output_type": "stream",
     "text": [
      "1\n"
     ]
    }
   ],
   "source": [
    "def countuppercase(str):\n",
    "    cnt=0;\n",
    "    lst=list(str)\n",
    "    for x in range(len(lst)):\n",
    "        if (lst[x])>='A' and (lst[x]<='Z'):\n",
    "            \n",
    "            \n",
    "            cnt=cnt+1;\n",
    "    return cnt;\n",
    "print(countuppercase(\"Application\"));"
   ]
  },
  {
   "cell_type": "code",
   "execution_count": 16,
   "metadata": {},
   "outputs": [
    {
     "name": "stdout",
     "output_type": "stream",
     "text": [
      "6\n"
     ]
    }
   ],
   "source": [
    "def countdigit(str):\n",
    "    cnt=0;\n",
    "    lst=list(str)\n",
    "    for x in range(len(lst)-1):\n",
    "        o=0;\n",
    "        j=0;\n",
    "        if (lst[x])>='A' and (lst[x]<='Z'):\n",
    "            o+=1;\n",
    "        if (lst[x])>='a' and (lst[x]<='z'):\n",
    "            j+=1;\n",
    "        else:\n",
    "            \n",
    "            \n",
    "            \n",
    "            cnt=cnt+1;\n",
    "    return cnt;\n",
    "print(countdigit(\"Application188988\"));"
   ]
  },
  {
   "cell_type": "code",
   "execution_count": 32,
   "metadata": {},
   "outputs": [
    {
     "name": "stdout",
     "output_type": "stream",
     "text": [
      "34\n"
     ]
    }
   ],
   "source": [
    "def countdigit(str):\n",
    "    cnt=0;\n",
    "    lst=list(str)\n",
    "    sum=0;\n",
    "    for x in range(len(lst)-1):\n",
    "        o=0;\n",
    "        j=0;\n",
    "        \n",
    "        if (lst[x])>='A' and (lst[x]<='Z'):\n",
    "            o+=1;\n",
    "        if (lst[x])>='a' and (lst[x]<='z'):\n",
    "            j+=1;\n",
    "        else:\n",
    "            \n",
    "            sum=sum+(ord(lst[x])-48);\n",
    "            \n",
    "    return sum;\n",
    "print(countdigit(\"Application1888\"));"
   ]
  },
  {
   "cell_type": "code",
   "execution_count": null,
   "metadata": {},
   "outputs": [],
   "source": []
  }
 ],
 "metadata": {
  "kernelspec": {
   "display_name": "Python 3",
   "language": "python",
   "name": "python3"
  },
  "language_info": {
   "codemirror_mode": {
    "name": "ipython",
    "version": 3
   },
   "file_extension": ".py",
   "mimetype": "text/x-python",
   "name": "python",
   "nbconvert_exporter": "python",
   "pygments_lexer": "ipython3",
   "version": "3.7.3"
  }
 },
 "nbformat": 4,
 "nbformat_minor": 2
}
