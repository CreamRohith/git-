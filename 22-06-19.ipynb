{
 "cells": [
  {
   "cell_type": "markdown",
   "metadata": {},
   "source": [
    "\n",
    "#control flows\n",
    "control statements"
   ]
  },
  {
   "cell_type": "markdown",
   "metadata": {},
   "source": [
    "if condition"
   ]
  },
  {
   "cell_type": "code",
   "execution_count": null,
   "metadata": {},
   "outputs": [],
   "source": [
    "# if stataement\n",
    "x=10;\n",
    "if(x<15):\n",
    "  print(\"the number is less than 15\");"
   ]
  },
  {
   "cell_type": "code",
   "execution_count": 26,
   "metadata": {},
   "outputs": [],
   "source": [
    "x=10;\n",
    "if(x>15):\n",
    " print(\"hello\")"
   ]
  },
  {
   "cell_type": "code",
   "execution_count": null,
   "metadata": {},
   "outputs": [],
   "source": [
    "# if else condition\n",
    "a=11;\n",
    "if(a<11):\n",
    "    print(\"praveen varma\");\n",
    "else:\n",
    "    print(\"rohith\");"
   ]
  },
  {
   "cell_type": "code",
   "execution_count": null,
   "metadata": {},
   "outputs": [],
   "source": [
    "# to compare two numbers\n",
    "x=10\n",
    "y=20;\n",
    "if(x>y):\n",
    "    print(\"x is greater\");\n",
    "else:\n",
    "      print(\"y is greater\");"
   ]
  },
  {
   "cell_type": "code",
   "execution_count": 45,
   "metadata": {},
   "outputs": [
    {
     "name": "stdout",
     "output_type": "stream",
     "text": [
      "90\n"
     ]
    }
   ],
   "source": [
    "a=9\n",
    "b=10\n",
    "if(a==b):\n",
    "    print(a**2);\n",
    "else:\n",
    "    print(a*b);"
   ]
  },
  {
   "cell_type": "code",
   "execution_count": 46,
   "metadata": {},
   "outputs": [
    {
     "name": "stdout",
     "output_type": "stream",
     "text": [
      "200\n"
     ]
    }
   ],
   "source": [
    "a=10\n",
    "b=20\n",
    "\n",
    "if(a==b):\n",
    "    print(a**2);\n",
    "else:\n",
    "    print(a*b);"
   ]
  },
  {
   "cell_type": "markdown",
   "metadata": {},
   "source": [
    "# to check number is +,-,o\n",
    "x=20;\n",
    "if(x>0):\n",
    "    print(\"positive\");\n",
    "else:\n",
    "    if(x<0):\n",
    "        print(\"negative\");\n",
    "    else:\n",
    "        print(\"the number is zero\");"
   ]
  },
  {
   "cell_type": "code",
   "execution_count": 44,
   "metadata": {},
   "outputs": [
    {
     "name": "stdout",
     "output_type": "stream",
     "text": [
      "the number is zero\n"
     ]
    }
   ],
   "source": [
    "x=0;\n",
    "if(x>0):\n",
    "    print(\"positive\");\n",
    "elif(x<0):\n",
    "        print(\"negative\");\n",
    "else:\n",
    "    print(\"the number is zero\");"
   ]
  },
  {
   "cell_type": "code",
   "execution_count": 47,
   "metadata": {},
   "outputs": [
    {
     "name": "stdout",
     "output_type": "stream",
     "text": [
      "1\n",
      "2\n",
      "3\n",
      "4\n",
      "5\n",
      "6\n",
      "7\n",
      "8\n",
      "9\n",
      "10\n"
     ]
    }
   ],
   "source": [
    "# while statements\n",
    "n=1;\n",
    "while(n<=10):\n",
    "    print(n);\n",
    "    n=n+1;"
   ]
  },
  {
   "cell_type": "code",
   "execution_count": 1,
   "metadata": {},
   "outputs": [
    {
     "name": "stdout",
     "output_type": "stream",
     "text": [
      "10\n",
      "9\n",
      "8\n",
      "7\n",
      "6\n",
      "5\n",
      "4\n",
      "3\n",
      "2\n",
      "1\n"
     ]
    }
   ],
   "source": [
    "# print from 10 t0 1\n",
    "n=10;\n",
    "while(n>=1):\n",
    "    print(n);\n",
    "    n=n-1;"
   ]
  },
  {
   "cell_type": "code",
   "execution_count": 2,
   "metadata": {},
   "outputs": [
    {
     "name": "stdout",
     "output_type": "stream",
     "text": [
      "22\n",
      "23\n",
      "24\n",
      "25\n",
      "26\n",
      "27\n",
      "28\n",
      "29\n",
      "30\n",
      "31\n",
      "32\n",
      "33\n",
      "34\n",
      "35\n",
      "36\n",
      "37\n",
      "38\n",
      "39\n",
      "40\n",
      "41\n",
      "42\n",
      "43\n",
      "44\n",
      "45\n"
     ]
    }
   ],
   "source": [
    "#print from 22 to 45\n",
    "n=22;\n",
    "m=45;\n",
    "while(n<=m):\n",
    "    print(n);\n",
    "    n=n+1;"
   ]
  },
  {
   "cell_type": "code",
   "execution_count": 5,
   "metadata": {},
   "outputs": [
    {
     "name": "stdout",
     "output_type": "stream",
     "text": [
      "2550\n"
     ]
    }
   ],
   "source": [
    "a=1;\n",
    "j=0;\n",
    "while(a<=100):\n",
    "    if(a%2==0):\n",
    "        j=j+a;\n",
    "    a=a+1;\n",
    "print(j);"
   ]
  },
  {
   "cell_type": "code",
   "execution_count": 6,
   "metadata": {},
   "outputs": [
    {
     "name": "stdout",
     "output_type": "stream",
     "text": [
      "enter lower limit5\n",
      "enter upper limit6\n",
      "11\n"
     ]
    }
   ],
   "source": [
    "#dynamic data input\n",
    "x = int(input(\"enter lower limit\"));\n",
    "y = int(input(\"enter upper limit\"));\n",
    "k = x+y;\n",
    "print(k);"
   ]
  },
  {
   "cell_type": "code",
   "execution_count": 8,
   "metadata": {},
   "outputs": [
    {
     "name": "stdout",
     "output_type": "stream",
     "text": [
      "enter lower limit34\n",
      "enter upper limit45\n",
      "234\n"
     ]
    }
   ],
   "source": [
    "a = int(input(\"enter lower limit\"));\n",
    "b = int(input(\"enter upper limit\"));\n",
    "j=0;\n",
    "while(a<=b):\n",
    "    if(a%2==0):\n",
    "        j=j+a;\n",
    "    a=a+1;\n",
    "print(j);"
   ]
  },
  {
   "cell_type": "code",
   "execution_count": 12,
   "metadata": {},
   "outputs": [
    {
     "name": "stdout",
     "output_type": "stream",
     "text": [
      "enter value145\n",
      "5\n",
      "4\n",
      "1\n"
     ]
    }
   ],
   "source": [
    "#reversing number and printing digits\n",
    "a = int(input(\"enter value\"));\n",
    "while(a>0):\n",
    "    b=a%10;\n",
    "    print(b);\n",
    "    a=a/10;\n",
    "    a= int(a);\n"
   ]
  },
  {
   "cell_type": "code",
   "execution_count": 15,
   "metadata": {},
   "outputs": [
    {
     "name": "stdout",
     "output_type": "stream",
     "text": [
      "enter value1222\n",
      "6\n"
     ]
    }
   ],
   "source": [
    "#sum of even digits in a number\n",
    "a = int(input(\"enter value\"));\n",
    "j=0;\n",
    "while(a>0):\n",
    "    b=a%10;\n",
    "    if(b%2==0):\n",
    "        j=j+b;\n",
    "    a=a/10;\n",
    "    a= int(a);\n",
    "print(j);\n"
   ]
  },
  {
   "cell_type": "code",
   "execution_count": 3,
   "metadata": {},
   "outputs": [
    {
     "name": "stdout",
     "output_type": "stream",
     "text": [
      "enter value1234\n",
      "four\n",
      "three\n",
      "two\n",
      "one\n"
     ]
    }
   ],
   "source": [
    "a = int(input(\"enter value\"));\n",
    "while(a>0):\n",
    "    b=a%10;\n",
    "    if(b==0):\n",
    "        print(\"zero\");\n",
    "    elif(b==9):\n",
    "        print(\"nine\");\n",
    "        \n",
    "    elif(b==1):\n",
    "        print(\"one\");\n",
    "        ;\n",
    "    elif(b==2):\n",
    "        print(\"two\");\n",
    "        \n",
    "    elif(b==3):\n",
    "        print(\"three\");\n",
    "        \n",
    "    elif(b==4):\n",
    "        print(\"four\");\n",
    "        \n",
    "    elif(b==5):\n",
    "        print(\"five\");\n",
    "        \n",
    "    elif(b==6):\n",
    "        print(\"six\");\n",
    "        \n",
    "    elif(b==7):\n",
    "        print(\"seven\");\n",
    "        \n",
    "    elif(b==8):\n",
    "        print(\"eight\");\n",
    "        \n",
    "        \n",
    "    a=a/10;\n",
    "    a=int(a);"
   ]
  },
  {
   "cell_type": "code",
   "execution_count": null,
   "metadata": {},
   "outputs": [],
   "source": []
  },
  {
   "cell_type": "code",
   "execution_count": null,
   "metadata": {},
   "outputs": [],
   "source": []
  }
 ],
 "metadata": {
  "kernelspec": {
   "display_name": "Python 3",
   "language": "python",
   "name": "python3"
  },
  "language_info": {
   "codemirror_mode": {
    "name": "ipython",
    "version": 3
   },
   "file_extension": ".py",
   "mimetype": "text/x-python",
   "name": "python",
   "nbconvert_exporter": "python",
   "pygments_lexer": "ipython3",
   "version": "3.7.3"
  }
 },
 "nbformat": 4,
 "nbformat_minor": 2
}
