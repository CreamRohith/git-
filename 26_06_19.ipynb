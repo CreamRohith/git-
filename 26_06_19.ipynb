{
  "nbformat": 4,
  "nbformat_minor": 0,
  "metadata": {
    "colab": {
      "name": "26-06-19.ipynb",
      "version": "0.3.2",
      "provenance": [],
      "collapsed_sections": [],
      "include_colab_link": true
    },
    "kernelspec": {
      "name": "python3",
      "display_name": "Python 3"
    }
  },
  "cells": [
    {
      "cell_type": "markdown",
      "metadata": {
        "id": "view-in-github",
        "colab_type": "text"
      },
      "source": [
        "<a href=\"https://colab.research.google.com/github/CreamRohith/git-/blob/master/26_06_19.ipynb\" target=\"_parent\"><img src=\"https://colab.research.google.com/assets/colab-badge.svg\" alt=\"Open In Colab\"/></a>"
      ]
    },
    {
      "cell_type": "code",
      "metadata": {
        "id": "D8T3nxsMYOqr",
        "colab_type": "code",
        "outputId": "3668ca0f-fd05-4fa5-83b2-6f19a4ca2cc1",
        "colab": {
          "base_uri": "https://localhost:8080/",
          "height": 34
        }
      },
      "source": [
        "#string functions\n",
        "k=\"i am gone\";\n",
        "print(k.upper())"
      ],
      "execution_count": 0,
      "outputs": [
        {
          "output_type": "stream",
          "text": [
            "I AM GONE\n"
          ],
          "name": "stdout"
        }
      ]
    },
    {
      "cell_type": "code",
      "metadata": {
        "id": "Pkh_OixmcOW8",
        "colab_type": "code",
        "outputId": "7d6c0221-95a2-423d-b7f4-3f4872e451a1",
        "colab": {
          "base_uri": "https://localhost:8080/",
          "height": 34
        }
      },
      "source": [
        "k=\"i am gone\";\n",
        "print(k.isupper())"
      ],
      "execution_count": 0,
      "outputs": [
        {
          "output_type": "stream",
          "text": [
            "False\n"
          ],
          "name": "stdout"
        }
      ]
    },
    {
      "cell_type": "code",
      "metadata": {
        "id": "soaI1kW4cVWz",
        "colab_type": "code",
        "outputId": "9ad0ccac-a9df-407a-93c3-b196ea599cdc",
        "colab": {
          "base_uri": "https://localhost:8080/",
          "height": 34
        }
      },
      "source": [
        "k=\"i am gone\";\n",
        "print(k.islower())"
      ],
      "execution_count": 0,
      "outputs": [
        {
          "output_type": "stream",
          "text": [
            "True\n"
          ],
          "name": "stdout"
        }
      ]
    },
    {
      "cell_type": "code",
      "metadata": {
        "id": "0rJsGUtBddyi",
        "colab_type": "code",
        "outputId": "a03337b6-7e4a-4a88-e2fe-691d70d54ae5",
        "colab": {
          "base_uri": "https://localhost:8080/",
          "height": 34
        }
      },
      "source": [
        "s='123iam';\n",
        "print(s.isnumeric())\n"
      ],
      "execution_count": 0,
      "outputs": [
        {
          "output_type": "stream",
          "text": [
            "False\n"
          ],
          "name": "stdout"
        }
      ]
    },
    {
      "cell_type": "code",
      "metadata": {
        "id": "7nnWj52Td-bD",
        "colab_type": "code",
        "outputId": "e6271152-1454-4579-cbca-c1d5c8fe25c9",
        "colab": {
          "base_uri": "https://localhost:8080/",
          "height": 34
        }
      },
      "source": [
        "s='iam';\n",
        "print(s.isalpha())\n"
      ],
      "execution_count": 0,
      "outputs": [
        {
          "output_type": "stream",
          "text": [
            "True\n"
          ],
          "name": "stdout"
        }
      ]
    },
    {
      "cell_type": "code",
      "metadata": {
        "id": "ES5kyu1WeR1n",
        "colab_type": "code",
        "outputId": "4d0527ae-3446-417b-8b41-18568ed8d487",
        "colab": {
          "base_uri": "https://localhost:8080/",
          "height": 34
        }
      },
      "source": [
        "s='iam2';\n",
        "print(s.isalpha())\n"
      ],
      "execution_count": 0,
      "outputs": [
        {
          "output_type": "stream",
          "text": [
            "False\n"
          ],
          "name": "stdout"
        }
      ]
    },
    {
      "cell_type": "code",
      "metadata": {
        "id": "j_a4OVRveSDj",
        "colab_type": "code",
        "outputId": "c1ab7366-8301-48ea-a096-f9540afea738",
        "colab": {
          "base_uri": "https://localhost:8080/",
          "height": 51
        }
      },
      "source": [
        "s1='iam2 Flower';\n",
        "s2='Iam2 Flower';\n",
        "print(s1.istitle());\n",
        "print(s2.istitle());\n",
        "\n",
        "\n",
        "\n",
        "\n"
      ],
      "execution_count": 0,
      "outputs": [
        {
          "output_type": "stream",
          "text": [
            "False\n",
            "True\n"
          ],
          "name": "stdout"
        }
      ]
    },
    {
      "cell_type": "code",
      "metadata": {
        "id": "LpY4MJFZf3nK",
        "colab_type": "code",
        "outputId": "a39db0f3-d69a-4edf-9839-52e46d5fc81f",
        "colab": {
          "base_uri": "https://localhost:8080/",
          "height": 34
        }
      },
      "source": [
        "s1=\"  \";\n",
        "print(s1.isspace());\n",
        "\n"
      ],
      "execution_count": 0,
      "outputs": [
        {
          "output_type": "stream",
          "text": [
            "True\n"
          ],
          "name": "stdout"
        }
      ]
    },
    {
      "cell_type": "code",
      "metadata": {
        "id": "huGX0EpFh0gC",
        "colab_type": "code",
        "outputId": "761c0c20-75a2-41b3-b103-436d59cbf9db",
        "colab": {
          "base_uri": "https://localhost:8080/",
          "height": 34
        }
      },
      "source": [
        "str=\"python\";\n",
        "print(' '.join(str))"
      ],
      "execution_count": 0,
      "outputs": [
        {
          "output_type": "stream",
          "text": [
            "p y t h o n\n"
          ],
          "name": "stdout"
        }
      ]
    },
    {
      "cell_type": "code",
      "metadata": {
        "id": "DJHCAaPhiSXZ",
        "colab_type": "code",
        "outputId": "daa9757d-e0a2-45d3-9d39-dd7d29d6a3df",
        "colab": {
          "base_uri": "https://localhost:8080/",
          "height": 34
        }
      },
      "source": [
        "print(','.join([\"python\",\"prog\"]))"
      ],
      "execution_count": 0,
      "outputs": [
        {
          "output_type": "stream",
          "text": [
            "python,prog\n"
          ],
          "name": "stdout"
        }
      ]
    },
    {
      "cell_type": "code",
      "metadata": {
        "id": "S0TkDd_fjF59",
        "colab_type": "code",
        "outputId": "66f2da4d-21cd-440b-d1f9-97df436e6496",
        "colab": {
          "base_uri": "https://localhost:8080/",
          "height": 34
        }
      },
      "source": [
        "lst=\",\"\n",
        "print(','.join(lst))"
      ],
      "execution_count": 0,
      "outputs": [
        {
          "output_type": "stream",
          "text": [
            ",\n"
          ],
          "name": "stdout"
        }
      ]
    },
    {
      "cell_type": "code",
      "metadata": {
        "id": "sSjhLg_MkRJB",
        "colab_type": "code",
        "outputId": "c7f13205-859e-4584-c04b-b96d41ee10fc",
        "colab": {
          "base_uri": "https://localhost:8080/",
          "height": 51
        }
      },
      "source": [
        "s=\"i love you\";\n",
        "print(s.split())\n",
        "print(s.split(\"e\"))"
      ],
      "execution_count": 0,
      "outputs": [
        {
          "output_type": "stream",
          "text": [
            "['i', 'love', 'you']\n",
            "['i lov', ' you']\n"
          ],
          "name": "stdout"
        }
      ]
    },
    {
      "cell_type": "code",
      "metadata": {
        "id": "qj81Xr2JkYQB",
        "colab_type": "code",
        "outputId": "ef41f4e2-05d6-42a3-96ef-b4a6aa0c8a43",
        "colab": {
          "base_uri": "https://localhost:8080/",
          "height": 51
        }
      },
      "source": [
        "s=\"i love you\";\n",
        "lst=s.split();\n",
        "print(lst)\n",
        "print(lst.index(\"love\"))"
      ],
      "execution_count": 0,
      "outputs": [
        {
          "output_type": "stream",
          "text": [
            "['i', 'love', 'you']\n",
            "1\n"
          ],
          "name": "stdout"
        }
      ]
    },
    {
      "cell_type": "code",
      "metadata": {
        "id": "DynJhbfalbOf",
        "colab_type": "code",
        "outputId": "283d476d-9ea3-4706-a6f2-6447ea855cd2",
        "colab": {
          "base_uri": "https://localhost:8080/",
          "height": 34
        }
      },
      "source": [
        "s=\"i love you\";\n",
        "lst=list(s);\n",
        "print(lst)"
      ],
      "execution_count": 0,
      "outputs": [
        {
          "output_type": "stream",
          "text": [
            "['i', ' ', 'l', 'o', 'v', 'e', ' ', 'y', 'o', 'u']\n"
          ],
          "name": "stdout"
        }
      ]
    },
    {
      "cell_type": "code",
      "metadata": {
        "id": "tW-EoPaNm3JA",
        "colab_type": "code",
        "outputId": "d0f17fbf-6f58-489b-e25e-af7b4c0b358b",
        "colab": {
          "base_uri": "https://localhost:8080/",
          "height": 51
        }
      },
      "source": [
        "s1=\"python programming\";\n",
        "s2=\"Parveen\";\n",
        "print(s1.replace(\"python\",\"java\"));\n",
        "print(s2.istitle())"
      ],
      "execution_count": 0,
      "outputs": [
        {
          "output_type": "stream",
          "text": [
            "java programming\n",
            "True\n"
          ],
          "name": "stdout"
        }
      ]
    },
    {
      "cell_type": "code",
      "metadata": {
        "id": "r63k6aQEt_J1",
        "colab_type": "code",
        "outputId": "b3831c00-be6d-42ce-f581-548db988c9ca",
        "colab": {
          "base_uri": "https://localhost:8080/",
          "height": 34
        }
      },
      "source": [
        "t1=(\"python\",\"is\");\n",
        "print(t1[0])"
      ],
      "execution_count": 0,
      "outputs": [
        {
          "output_type": "stream",
          "text": [
            "python\n"
          ],
          "name": "stdout"
        }
      ]
    },
    {
      "cell_type": "code",
      "metadata": {
        "id": "pxxMifd1uigr",
        "colab_type": "code",
        "outputId": "377b6e5d-b9ef-4aa1-907f-be18fee0249a",
        "colab": {
          "base_uri": "https://localhost:8080/",
          "height": 34
        }
      },
      "source": [
        "t1=(\"python\",\"is\");\n",
        "\n",
        "print(t1[-1]);\n"
      ],
      "execution_count": 0,
      "outputs": [
        {
          "output_type": "stream",
          "text": [
            "is\n"
          ],
          "name": "stdout"
        }
      ]
    },
    {
      "cell_type": "code",
      "metadata": {
        "id": "F0f51FgLwNYl",
        "colab_type": "code",
        "outputId": "a3de03e6-10b4-4f38-a381-d0a35e3ed41b",
        "colab": {
          "base_uri": "https://localhost:8080/",
          "height": 34
        }
      },
      "source": [
        "t1=(\"python\",123,\"is\");\n",
        "print(t1);\n",
        "\n"
      ],
      "execution_count": 0,
      "outputs": [
        {
          "output_type": "stream",
          "text": [
            "('python', 123, 'is')\n"
          ],
          "name": "stdout"
        }
      ]
    },
    {
      "cell_type": "code",
      "metadata": {
        "id": "3VOquh2FxO7G",
        "colab_type": "code",
        "outputId": "3e1dca84-4c10-4fc2-a134-2c60a4c3f29d",
        "colab": {
          "base_uri": "https://localhost:8080/",
          "height": 34
        }
      },
      "source": [
        "t1=(\"python\",123,\"is\");\n",
        "t2=(\"we are lost\",123)\n",
        "t3=t1+t2;\n",
        "print(t3);\n"
      ],
      "execution_count": 0,
      "outputs": [
        {
          "output_type": "stream",
          "text": [
            "('python', 123, 'is', 'we are lost', 123)\n"
          ],
          "name": "stdout"
        }
      ]
    },
    {
      "cell_type": "code",
      "metadata": {
        "id": "Q7PV4POixqBy",
        "colab_type": "code",
        "outputId": "1f20cbb6-5698-49a8-e212-5f922b7034be",
        "colab": {
          "base_uri": "https://localhost:8080/",
          "height": 34
        }
      },
      "source": [
        "t1=(1,2,3,4,5,6);\n",
        "print(min(t1))"
      ],
      "execution_count": 0,
      "outputs": [
        {
          "output_type": "stream",
          "text": [
            "1\n"
          ],
          "name": "stdout"
        }
      ]
    },
    {
      "cell_type": "code",
      "metadata": {
        "id": "ApnjmHuW0Thy",
        "colab_type": "code",
        "outputId": "c5086aec-5a98-4286-e666-2a4a6064e61f",
        "colab": {
          "base_uri": "https://localhost:8080/",
          "height": 68
        }
      },
      "source": [
        "t1=(1,2,3,4,5,6);\n",
        "t2=(34,35,45,46);\n",
        "print(max(t1))\n",
        "print(len(t1))\n",
        "\n",
        "\n",
        "print(min(t1))\n"
      ],
      "execution_count": 0,
      "outputs": [
        {
          "output_type": "stream",
          "text": [
            "6\n",
            "6\n",
            "1\n"
          ],
          "name": "stdout"
        }
      ]
    },
    {
      "cell_type": "code",
      "metadata": {
        "id": "X65YY49E0aOk",
        "colab_type": "code",
        "outputId": "27744fbd-4893-484f-e727-844c7f3cf77a",
        "colab": {
          "base_uri": "https://localhost:8080/",
          "height": 34
        }
      },
      "source": [
        "li=[\"p\",\"k\",\"i\",\"t\"];\n",
        "tuple1=tuple(li);\n",
        "print(tuple1)"
      ],
      "execution_count": 0,
      "outputs": [
        {
          "output_type": "stream",
          "text": [
            "('p', 'k', 'i', 't')\n"
          ],
          "name": "stdout"
        }
      ]
    },
    {
      "cell_type": "code",
      "metadata": {
        "id": "26-eXq5i-R8M",
        "colab_type": "code",
        "outputId": "21eaa252-72c3-4870-f510-1d2fa16e9891",
        "colab": {
          "base_uri": "https://localhost:8080/",
          "height": 68
        }
      },
      "source": [
        "#tuples in dictionary dictionary dictionary dictionary\n",
        "user1={'name':'akas','age':23,'loc':78};#flower brackets used\n",
        "print(\"user 1 name=\" ,user1['name'])\n",
        "print(\"user 1 age=\" ,user1['age'])\n",
        "user1['name']='manisparveen'\n",
        "print(\"user 1 name=\" ,user1['name'])\n"
      ],
      "execution_count": 0,
      "outputs": [
        {
          "output_type": "stream",
          "text": [
            "user 1 name= akas\n",
            "user 1 age= 23\n",
            "user 1 name= manisparveen\n"
          ],
          "name": "stdout"
        }
      ]
    },
    {
      "cell_type": "code",
      "metadata": {
        "id": "GnvlMDT8BDXo",
        "colab_type": "code",
        "outputId": "2a90248f-d40c-4f99-eb4d-7335943da746",
        "colab": {
          "base_uri": "https://localhost:8080/",
          "height": 197
        }
      },
      "source": [
        "user1={'name':'akas','age':23,'loc':78};#flower brackets used\n",
        "del user1['loc'];\n",
        "print(user1['loc'])"
      ],
      "execution_count": 0,
      "outputs": [
        {
          "output_type": "error",
          "ename": "KeyError",
          "evalue": "ignored",
          "traceback": [
            "\u001b[0;31m---------------------------------------------------------------------------\u001b[0m",
            "\u001b[0;31mKeyError\u001b[0m                                  Traceback (most recent call last)",
            "\u001b[0;32m<ipython-input-79-568ac48239ff>\u001b[0m in \u001b[0;36m<module>\u001b[0;34m()\u001b[0m\n\u001b[1;32m      1\u001b[0m \u001b[0muser1\u001b[0m\u001b[0;34m=\u001b[0m\u001b[0;34m{\u001b[0m\u001b[0;34m'name'\u001b[0m\u001b[0;34m:\u001b[0m\u001b[0;34m'akas'\u001b[0m\u001b[0;34m,\u001b[0m\u001b[0;34m'age'\u001b[0m\u001b[0;34m:\u001b[0m\u001b[0;36m23\u001b[0m\u001b[0;34m,\u001b[0m\u001b[0;34m'loc'\u001b[0m\u001b[0;34m:\u001b[0m\u001b[0;36m78\u001b[0m\u001b[0;34m}\u001b[0m\u001b[0;34m;\u001b[0m\u001b[0;31m#flower brackets used\u001b[0m\u001b[0;34m\u001b[0m\u001b[0;34m\u001b[0m\u001b[0m\n\u001b[1;32m      2\u001b[0m \u001b[0;32mdel\u001b[0m \u001b[0muser1\u001b[0m\u001b[0;34m[\u001b[0m\u001b[0;34m'loc'\u001b[0m\u001b[0;34m]\u001b[0m\u001b[0;34m;\u001b[0m\u001b[0;34m\u001b[0m\u001b[0;34m\u001b[0m\u001b[0m\n\u001b[0;32m----> 3\u001b[0;31m \u001b[0mprint\u001b[0m\u001b[0;34m(\u001b[0m\u001b[0muser1\u001b[0m\u001b[0;34m[\u001b[0m\u001b[0;34m'loc'\u001b[0m\u001b[0;34m]\u001b[0m\u001b[0;34m)\u001b[0m\u001b[0;34m\u001b[0m\u001b[0;34m\u001b[0m\u001b[0m\n\u001b[0m",
            "\u001b[0;31mKeyError\u001b[0m: 'loc'"
          ]
        }
      ]
    },
    {
      "cell_type": "code",
      "metadata": {
        "id": "r_tWE-YLDLqr",
        "colab_type": "code",
        "colab": {}
      },
      "source": [
        "user1={'name':'akas','age':23,'loc':78};#flower brackets used\n",
        "del user1['loc']\n",
        "user1.clear();\n",
        "\n",
        "del user1"
      ],
      "execution_count": 0,
      "outputs": []
    },
    {
      "cell_type": "code",
      "metadata": {
        "id": "m5TUc8YhDTxG",
        "colab_type": "code",
        "outputId": "71cdd307-2e7f-4ff8-bd4e-3e5a201eca7f",
        "colab": {
          "base_uri": "https://localhost:8080/",
          "height": 51
        }
      },
      "source": [
        "user1={'name':'akas','age':23,'loc':78};#flower brackets used\n",
        "print(len(user1));\n",
        "user1['address']='hyderabad';\n",
        "print(len(user1));\n"
      ],
      "execution_count": 0,
      "outputs": [
        {
          "output_type": "stream",
          "text": [
            "3\n",
            "4\n"
          ],
          "name": "stdout"
        }
      ]
    },
    {
      "cell_type": "code",
      "metadata": {
        "id": "WXQWPkM8FOPI",
        "colab_type": "code",
        "outputId": "a27a31cd-60ae-4af9-bdd1-8209fb08ff26",
        "colab": {
          "base_uri": "https://localhost:8080/",
          "height": 85
        }
      },
      "source": [
        "user1={'name':'akas','age':23,'loc':78};#flower brackets used\n",
        "user2=user1.copy();\n",
        "print(user1);\n",
        "print(user2);\n",
        "user1['address']='hyderabad';\n",
        "print(user1);\n",
        "print(user2);"
      ],
      "execution_count": 0,
      "outputs": [
        {
          "output_type": "stream",
          "text": [
            "{'name': 'akas', 'age': 23, 'loc': 78}\n",
            "{'name': 'akas', 'age': 23, 'loc': 78}\n",
            "{'name': 'akas', 'age': 23, 'loc': 78, 'address': 'hyderabad'}\n",
            "{'name': 'akas', 'age': 23, 'loc': 78}\n"
          ],
          "name": "stdout"
        }
      ]
    },
    {
      "cell_type": "code",
      "metadata": {
        "id": "eWsmYR-dIqsj",
        "colab_type": "code",
        "outputId": "5e13ba82-8c83-4065-cdfb-e64c93868573",
        "colab": {
          "base_uri": "https://localhost:8080/",
          "height": 51
        }
      },
      "source": [
        "user1={'name':'akas','age':23,'loc':78};#flower brackets used\n",
        "user2=user1.copy()\n",
        "print(user1.items())\n",
        "print(user2.items())"
      ],
      "execution_count": 0,
      "outputs": [
        {
          "output_type": "stream",
          "text": [
            "dict_items([('name', 'akas'), ('age', 23), ('loc', 78)])\n",
            "dict_items([('name', 'akas'), ('age', 23), ('loc', 78)])\n"
          ],
          "name": "stdout"
        }
      ]
    },
    {
      "cell_type": "code",
      "metadata": {
        "id": "quG8nqISIrA_",
        "colab_type": "code",
        "outputId": "e2ef02f4-d826-4fed-8775-6acd52caebbf",
        "colab": {
          "base_uri": "https://localhost:8080/",
          "height": 51
        }
      },
      "source": [
        "user=['python','programming']\n",
        "print('%s %s'%(user[0],user[1]))\n",
        "print('{0} {1}'.format(user[0],user[1]))"
      ],
      "execution_count": 0,
      "outputs": [
        {
          "output_type": "stream",
          "text": [
            "python programming\n",
            "python programming\n"
          ],
          "name": "stdout"
        }
      ]
    },
    {
      "cell_type": "code",
      "metadata": {
        "id": "JXxmBo1-LiFZ",
        "colab_type": "code",
        "outputId": "f3c5de83-cab1-4727-b6bd-2ee37bce9249",
        "colab": {
          "base_uri": "https://localhost:8080/",
          "height": 34
        }
      },
      "source": [
        "con={}\n",
        "def add(name,phone):\n",
        "  if name not in con:\n",
        "    con[name]=phone;\n",
        "    print(\"contact %s added\"%name)\n",
        "  else:\n",
        "    print(\"contact %s already\"%name)\n",
        "  return;\n",
        "add(\"anil\",9088698)"
      ],
      "execution_count": 0,
      "outputs": [
        {
          "output_type": "stream",
          "text": [
            "contact anil added\n"
          ],
          "name": "stdout"
        }
      ]
    },
    {
      "cell_type": "code",
      "metadata": {
        "id": "gOsyNnMqjyS3",
        "colab_type": "code",
        "outputId": "86a8c572-81a8-4631-eb87-957ea3bf623a",
        "colab": {
          "base_uri": "https://localhost:8080/",
          "height": 34
        }
      },
      "source": [
        "\n",
        "def searcon(name):\n",
        "  if name in con:\n",
        "    print(name,\":\",con[name]);\n",
        "  else:\n",
        "    print(\"%s does not exists\"%name);\n",
        "  return\n",
        "searcon(\"anil\")"
      ],
      "execution_count": 0,
      "outputs": [
        {
          "output_type": "stream",
          "text": [
            "anil : 9088698\n"
          ],
          "name": "stdout"
        }
      ]
    },
    {
      "cell_type": "code",
      "metadata": {
        "id": "sDAzE5DhnGEH",
        "colab_type": "code",
        "outputId": "246309c0-f0e6-43f4-de99-bee0faf48105",
        "colab": {
          "base_uri": "https://localhost:8080/",
          "height": 34
        }
      },
      "source": [
        "print(con)"
      ],
      "execution_count": 0,
      "outputs": [
        {
          "output_type": "stream",
          "text": [
            "{'anil': 9088698}\n"
          ],
          "name": "stdout"
        }
      ]
    },
    {
      "cell_type": "code",
      "metadata": {
        "id": "_JMDulwyoh4u",
        "colab_type": "code",
        "outputId": "dba21961-c3eb-4782-85a0-82dc453ce1a9",
        "colab": {
          "base_uri": "https://localhost:8080/",
          "height": 51
        }
      },
      "source": [
        "def impcon(newcon):\n",
        "  con.update(newcon);\n",
        "  print(len(newcon.keys()),\"contact added successful\");\n",
        "  return;\n",
        "newcon={'dinesh':90888,'ajay':9988799090}\n",
        "impcon(newcon);\n",
        "print(newcon.keys());"
      ],
      "execution_count": 0,
      "outputs": [
        {
          "output_type": "stream",
          "text": [
            "2 contact added successful\n",
            "dict_keys(['dinesh', 'ajay'])\n"
          ],
          "name": "stdout"
        }
      ]
    },
    {
      "cell_type": "code",
      "metadata": {
        "id": "a-oEVZRz-yJH",
        "colab_type": "code",
        "colab": {}
      },
      "source": [
        ""
      ],
      "execution_count": 0,
      "outputs": []
    },
    {
      "cell_type": "code",
      "metadata": {
        "id": "5ok8K689pdXU",
        "colab_type": "code",
        "outputId": "e343bd67-92c1-4af3-a844-a32fd39b66c3",
        "colab": {
          "base_uri": "https://localhost:8080/",
          "height": 34
        }
      },
      "source": [
        "print(con)"
      ],
      "execution_count": 0,
      "outputs": [
        {
          "output_type": "stream",
          "text": [
            "{'anil': 9088698, 'dinesh': 90888, 'ajay': 9988799090}\n"
          ],
          "name": "stdout"
        }
      ]
    },
    {
      "cell_type": "code",
      "metadata": {
        "id": "AWCDfFsSp31z",
        "colab_type": "code",
        "colab": {}
      },
      "source": [
        "def delcon(name):\n",
        "  if name in con:\n",
        "    del con[name];\n",
        "  else:\n",
        "    print(\"%s does not exists\"%name);\n",
        "  return;\n",
        "delcon(\"anil\")\n",
        "  "
      ],
      "execution_count": 0,
      "outputs": []
    },
    {
      "cell_type": "code",
      "metadata": {
        "id": "DNx0KonhqUqj",
        "colab_type": "code",
        "outputId": "74b2da41-ae11-4f6e-87d7-659ded01b789",
        "colab": {
          "base_uri": "https://localhost:8080/",
          "height": 34
        }
      },
      "source": [
        "print(con)"
      ],
      "execution_count": 0,
      "outputs": [
        {
          "output_type": "stream",
          "text": [
            "{'dinesh': 90888, 'ajay': 9988799090}\n"
          ],
          "name": "stdout"
        }
      ]
    },
    {
      "cell_type": "code",
      "metadata": {
        "id": "Jr9byK0ysYUY",
        "colab_type": "code",
        "colab": {}
      },
      "source": [
        "def  updcon(name,phone):\n",
        "  if name in con:\n",
        "    con[name]=phone;\n",
        "  else:\n",
        "    print(name,\"not exists\");\n",
        "  return;\n",
        "updcon('dinesh',90887)"
      ],
      "execution_count": 0,
      "outputs": []
    },
    {
      "cell_type": "code",
      "metadata": {
        "id": "X6M0zrHRxXBP",
        "colab_type": "code",
        "outputId": "ada83a28-529d-4787-ffd3-1f0c7a3b8f22",
        "colab": {
          "base_uri": "https://localhost:8080/",
          "height": 34
        }
      },
      "source": [
        "#packages and modules\n",
        "from math import factorial as fact\n",
        "fact(5)"
      ],
      "execution_count": 0,
      "outputs": [
        {
          "output_type": "execute_result",
          "data": {
            "text/plain": [
              "120"
            ]
          },
          "metadata": {
            "tags": []
          },
          "execution_count": 124
        }
      ]
    },
    {
      "cell_type": "code",
      "metadata": {
        "id": "PIJ55YafzeXL",
        "colab_type": "code",
        "outputId": "6a42abd1-5f65-4c48-cd6f-acb6a8444791",
        "colab": {
          "base_uri": "https://localhost:8080/",
          "height": 34
        }
      },
      "source": [
        "import math\n",
        "math.factorial(5)"
      ],
      "execution_count": 0,
      "outputs": [
        {
          "output_type": "execute_result",
          "data": {
            "text/plain": [
              "120"
            ]
          },
          "metadata": {
            "tags": []
          },
          "execution_count": 126
        }
      ]
    },
    {
      "cell_type": "code",
      "metadata": {
        "id": "kcMTSVTZ0M49",
        "colab_type": "code",
        "outputId": "546b58ab-93d8-45d3-a6e4-4afb0236e3eb",
        "colab": {
          "base_uri": "https://localhost:8080/",
          "height": 34
        }
      },
      "source": [
        "#generate random numbers between two limits\n",
        "import random;\n",
        "def genrannum(n,lb,ub):\n",
        "  for i in range(0,n):\n",
        "    print(random.randint(lb,ub),end=\" \");\n",
        "  return;\n",
        "genrannum(10,12,120)"
      ],
      "execution_count": 0,
      "outputs": [
        {
          "output_type": "stream",
          "text": [
            "23 51 52 54 74 66 98 120 37 118 "
          ],
          "name": "stdout"
        }
      ]
    },
    {
      "cell_type": "code",
      "metadata": {
        "id": "UZG62jYS2ryG",
        "colab_type": "code",
        "outputId": "0dc359b7-4c14-4beb-9b90-b90b6bf582e8",
        "colab": {
          "base_uri": "https://localhost:8080/",
          "height": 129
        }
      },
      "source": [
        "a={'a'=1,'b'=2}\n",
        "print(a['a','b'])"
      ],
      "execution_count": 0,
      "outputs": [
        {
          "output_type": "error",
          "ename": "SyntaxError",
          "evalue": "ignored",
          "traceback": [
            "\u001b[0;36m  File \u001b[0;32m\"<ipython-input-130-ca4bc1cb3ade>\"\u001b[0;36m, line \u001b[0;32m1\u001b[0m\n\u001b[0;31m    a={'a'=1,'b'=2}\u001b[0m\n\u001b[0m          ^\u001b[0m\n\u001b[0;31mSyntaxError\u001b[0m\u001b[0;31m:\u001b[0m invalid syntax\n"
          ]
        }
      ]
    },
    {
      "cell_type": "code",
      "metadata": {
        "id": "PfswnPE_-3AS",
        "colab_type": "code",
        "outputId": "dd4e7e31-7742-44c8-bf17-7ca05ae909a1",
        "colab": {
          "base_uri": "https://localhost:8080/",
          "height": 187
        }
      },
      "source": [
        "#assignment\n",
        "import math\n",
        "a=2.4\n",
        "print(math.ceil(a))\n",
        "print(min(1,2,3,4,5,6,7,8,9,10))\n",
        "print(math.floor(a))\n",
        "b=-9;\n",
        "c=9\n",
        "print(math.fabs(b))\n",
        "print (math.copysign(5.5, -10)) \n",
        "print(math.factorial(5))\n",
        "print (math.gcd(5,15)) \n",
        "print(math.isfinite(a))\n",
        "print(math.modf(a))\n",
        "print(math.exp(c))"
      ],
      "execution_count": 0,
      "outputs": [
        {
          "output_type": "stream",
          "text": [
            "3\n",
            "1\n",
            "2\n",
            "9.0\n",
            "-5.5\n",
            "120\n",
            "5\n",
            "True\n",
            "(0.3999999999999999, 2.0)\n",
            "8103.083927575384\n"
          ],
          "name": "stdout"
        }
      ]
    },
    {
      "cell_type": "code",
      "metadata": {
        "id": "HE32ssAQ-5Sd",
        "colab_type": "code",
        "outputId": "d49da563-221f-477e-9874-fbe6d1dfc783",
        "colab": {
          "base_uri": "https://localhost:8080/",
          "height": 1000
        }
      },
      "source": [
        "import random;\n",
        "def genrannum(n,lb,ub):\n",
        "  for i in range(0,n):\n",
        "    o=random.randint(lb,ub);\n",
        "    \n",
        "    print(math.ceil(o))\n",
        "    print(\"  \");\n",
        "    print(math.fabs(o))\n",
        "    print (math.copysign(o, o)) \n",
        "    print(math.factorial(o))\n",
        "    print (math.gcd(o,o)) \n",
        "    print(math.isfinite(o))\n",
        "    print(math.modf(o))\n",
        "    print(math.exp(o))\n",
        "    \n",
        "    \n",
        "  return;\n",
        "genrannum(10,12,120)"
      ],
      "execution_count": 0,
      "outputs": [
        {
          "output_type": "stream",
          "text": [
            "29\n",
            "  \n",
            "29.0\n",
            "29.0\n",
            "8841761993739701954543616000000\n",
            "29\n",
            "True\n",
            "(0.0, 29.0)\n",
            "3931334297144.042\n",
            "32\n",
            "  \n",
            "32.0\n",
            "32.0\n",
            "263130836933693530167218012160000000\n",
            "32\n",
            "True\n",
            "(0.0, 32.0)\n",
            "78962960182680.69\n",
            "73\n",
            "  \n",
            "73.0\n",
            "73.0\n",
            "4470115461512684340891257138125051110076800700282905015819080092370422104067183317016903680000000000000000\n",
            "73\n",
            "True\n",
            "(0.0, 73.0)\n",
            "5.052393630276104e+31\n",
            "104\n",
            "  \n",
            "104.0\n",
            "104.0\n",
            "10299016745145627623848583864765044283053772454999072182325491776887871732475287174542709871683888003235965704141638377695179741979175588724736000000000000000000000000\n",
            "104\n",
            "True\n",
            "(0.0, 104.0)\n",
            "1.4676622301554424e+45\n",
            "93\n",
            "  \n",
            "93.0\n",
            "93.0\n",
            "1156772507081641574759205162306240436214753229576413535186142281213246807121467315215203289516844845303838996289387078090752000000000000000000000\n",
            "93\n",
            "True\n",
            "(0.0, 93.0)\n",
            "2.451245542920086e+40\n",
            "33\n",
            "  \n",
            "33.0\n",
            "33.0\n",
            "8683317618811886495518194401280000000\n",
            "33\n",
            "True\n",
            "(0.0, 33.0)\n",
            "214643579785916.06\n",
            "43\n",
            "  \n",
            "43.0\n",
            "43.0\n",
            "60415263063373835637355132068513997507264512000000000\n",
            "43\n",
            "True\n",
            "(0.0, 43.0)\n",
            "4.727839468229346e+18\n",
            "16\n",
            "  \n",
            "16.0\n",
            "16.0\n",
            "20922789888000\n",
            "16\n",
            "True\n",
            "(0.0, 16.0)\n",
            "8886110.520507872\n",
            "36\n",
            "  \n",
            "36.0\n",
            "36.0\n",
            "371993326789901217467999448150835200000000\n",
            "36\n",
            "True\n",
            "(0.0, 36.0)\n",
            "4311231547115195.0\n",
            "46\n",
            "  \n",
            "46.0\n",
            "46.0\n",
            "5502622159812088949850305428800254892961651752960000000000\n",
            "46\n",
            "True\n",
            "(0.0, 46.0)\n",
            "9.496119420602448e+19\n"
          ],
          "name": "stdout"
        }
      ]
    },
    {
      "cell_type": "code",
      "metadata": {
        "id": "ezuvgtI3-4_n",
        "colab_type": "code",
        "colab": {}
      },
      "source": [
        ""
      ],
      "execution_count": 0,
      "outputs": []
    },
    {
      "cell_type": "code",
      "metadata": {
        "id": "DsUvk1Du-4tT",
        "colab_type": "code",
        "colab": {}
      },
      "source": [
        ""
      ],
      "execution_count": 0,
      "outputs": []
    },
    {
      "cell_type": "code",
      "metadata": {
        "id": "JiWSs_m0-4bh",
        "colab_type": "code",
        "colab": {}
      },
      "source": [
        ""
      ],
      "execution_count": 0,
      "outputs": []
    },
    {
      "cell_type": "code",
      "metadata": {
        "id": "XixIV7qT-4JY",
        "colab_type": "code",
        "colab": {}
      },
      "source": [
        ""
      ],
      "execution_count": 0,
      "outputs": []
    },
    {
      "cell_type": "code",
      "metadata": {
        "id": "qS6-tzrP-34B",
        "colab_type": "code",
        "colab": {}
      },
      "source": [
        ""
      ],
      "execution_count": 0,
      "outputs": []
    },
    {
      "cell_type": "code",
      "metadata": {
        "id": "CihXgpRQ-3my",
        "colab_type": "code",
        "colab": {}
      },
      "source": [
        ""
      ],
      "execution_count": 0,
      "outputs": []
    },
    {
      "cell_type": "code",
      "metadata": {
        "id": "mMWrEScp-3Vt",
        "colab_type": "code",
        "colab": {}
      },
      "source": [
        ""
      ],
      "execution_count": 0,
      "outputs": []
    }
  ]
}