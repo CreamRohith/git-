{
  "nbformat": 4,
  "nbformat_minor": 0,
  "metadata": {
    "colab": {
      "name": "27-06-19.ipynb",
      "version": "0.3.2",
      "provenance": [],
      "collapsed_sections": [],
      "include_colab_link": true
    },
    "kernelspec": {
      "name": "python3",
      "display_name": "Python 3"
    }
  },
  "cells": [
    {
      "cell_type": "markdown",
      "metadata": {
        "id": "view-in-github",
        "colab_type": "text"
      },
      "source": [
        "<a href=\"https://colab.research.google.com/github/CreamRohith/git-/blob/master/27_06_19.ipynb\" target=\"_parent\"><img src=\"https://colab.research.google.com/assets/colab-badge.svg\" alt=\"Open In Colab\"/></a>"
      ]
    },
    {
      "cell_type": "code",
      "metadata": {
        "id": "dOLh5i_jUDIb",
        "colab_type": "code",
        "outputId": "28fede67-c181-43c1-f58d-6a0290a530fb",
        "colab": {
          "base_uri": "https://localhost:8080/",
          "height": 34
        }
      },
      "source": [
        "def createfile(filename):\n",
        "  f=open(filename,\"w\");\n",
        "  for i in range(10):\n",
        "    f.write(\"this is %d time i loved her\"%i);\n",
        "  print(\"file is created successfully and data is written\");\n",
        "  f.close();\n",
        "  return;\n",
        "createfile(\"file1.txt\")"
      ],
      "execution_count": 0,
      "outputs": [
        {
          "output_type": "stream",
          "text": [
            "file is created successfully and data is written\n"
          ],
          "name": "stdout"
        }
      ]
    },
    {
      "cell_type": "code",
      "metadata": {
        "id": "m-MssD0S2Grj",
        "colab_type": "code",
        "colab": {}
      },
      "source": [
        ""
      ],
      "execution_count": 0,
      "outputs": []
    },
    {
      "cell_type": "code",
      "metadata": {
        "id": "CTi7C5MYXdKF",
        "colab_type": "code",
        "outputId": "c156cd94-dbf2-44cd-fb4a-d177b5642fca",
        "colab": {
          "base_uri": "https://localhost:8080/",
          "height": 54
        }
      },
      "source": [
        "def readfile(filename):\n",
        "  f=open(filename,\"r\");\n",
        "  if f.mode==\"r\":\n",
        "    \n",
        "    x=f.read();\n",
        "    print(x);\n",
        "  f.close();\n",
        "  return;\n",
        "readfile(\"file1.txt\")"
      ],
      "execution_count": 0,
      "outputs": [
        {
          "output_type": "stream",
          "text": [
            "this is 0 time i loved herthis is 1 time i loved herthis is 2 time i loved herthis is 3 time i loved herthis is 4 time i loved herthis is 5 time i loved herthis is 6 time i loved herthis is 7 time i loved herthis is 8 time i loved herthis is 9 time i loved her\n"
          ],
          "name": "stdout"
        }
      ]
    },
    {
      "cell_type": "code",
      "metadata": {
        "id": "v8Y4P0npZ9Kw",
        "colab_type": "code",
        "outputId": "78ee27a3-83a5-40e9-dc8a-2683f0bb9915",
        "colab": {
          "base_uri": "https://localhost:8080/",
          "height": 54
        }
      },
      "source": [
        "def readfile(filename):\n",
        "  f=open(filename,\"r\");\n",
        "  if f.mode==\"r\":\n",
        "    x=f.read();\n",
        "    print(x);\n",
        "  f.close();\n",
        "  return;\n",
        "readfile(\"file1.txt\")"
      ],
      "execution_count": 0,
      "outputs": [
        {
          "output_type": "stream",
          "text": [
            "this is 0 time i loved herthis is 1 time i loved herthis is 2 time i loved herthis is 3 time i loved herthis is 4 time i loved herthis is 5 time i loved herthis is 6 time i loved herthis is 7 time i loved herthis is 8 time i loved herthis is 9 time i loved her\n"
          ],
          "name": "stdout"
        }
      ]
    },
    {
      "cell_type": "code",
      "metadata": {
        "id": "17Hs4fa3cSUf",
        "colab_type": "code",
        "outputId": "fb4fceef-8886-4a34-f5f7-67b87a852386",
        "colab": {
          "base_uri": "https://localhost:8080/",
          "height": 34
        }
      },
      "source": [
        "ls\n"
      ],
      "execution_count": 0,
      "outputs": [
        {
          "output_type": "stream",
          "text": [
            "file1.txt  \u001b[0m\u001b[01;34msample_data\u001b[0m/\n"
          ],
          "name": "stdout"
        }
      ]
    },
    {
      "cell_type": "code",
      "metadata": {
        "id": "wfJPH9x-pA8I",
        "colab_type": "code",
        "outputId": "d5296607-3e78-417e-8650-e28494dcbbba",
        "colab": {
          "base_uri": "https://localhost:8080/",
          "height": 54
        }
      },
      "source": [
        "cat file1.txt"
      ],
      "execution_count": 0,
      "outputs": [
        {
          "output_type": "stream",
          "text": [
            "this is 0 time i loved herthis is 1 time i loved herthis is 2 time i loved herthis is 3 time i loved herthis is 4 time i loved herthis is 5 time i loved herthis is 6 time i loved herthis is 7 time i loved herthis is 8 time i loved herthis is 9 time i loved hernew line 1\n"
          ],
          "name": "stdout"
        }
      ]
    },
    {
      "cell_type": "code",
      "metadata": {
        "id": "Vpi-ecJ-cSjn",
        "colab_type": "code",
        "colab": {}
      },
      "source": [
        "def appenddata(filename):\n",
        "  f=open(filename,\"a\");\n",
        "  f.write(\"new line 1\\n\");\n",
        "  f.close()\n",
        "  return;\n",
        "appenddata(\"file1.txt\")\n"
      ],
      "execution_count": 0,
      "outputs": []
    },
    {
      "cell_type": "code",
      "metadata": {
        "id": "vt7Np73Jo8Zd",
        "colab_type": "code",
        "outputId": "f36c5695-01ae-40d1-bfb4-035dfea8b216",
        "colab": {
          "base_uri": "https://localhost:8080/",
          "height": 34
        }
      },
      "source": [
        "ls\n"
      ],
      "execution_count": 0,
      "outputs": [
        {
          "output_type": "stream",
          "text": [
            "file1.txt  \u001b[0m\u001b[01;34msample_data\u001b[0m/\n"
          ],
          "name": "stdout"
        }
      ]
    },
    {
      "cell_type": "code",
      "metadata": {
        "id": "vYn9_dkro_Lp",
        "colab_type": "code",
        "outputId": "6c0b6f80-dea6-49f0-d556-bc46221a0c35",
        "colab": {
          "base_uri": "https://localhost:8080/",
          "height": 54
        }
      },
      "source": [
        "cat file1.txt"
      ],
      "execution_count": 0,
      "outputs": [
        {
          "output_type": "stream",
          "text": [
            "this is 0 time i loved herthis is 1 time i loved herthis is 2 time i loved herthis is 3 time i loved herthis is 4 time i loved herthis is 5 time i loved herthis is 6 time i loved herthis is 7 time i loved herthis is 8 time i loved herthis is 9 time i loved hernew line 1\n"
          ],
          "name": "stdout"
        }
      ]
    },
    {
      "cell_type": "code",
      "metadata": {
        "id": "Us-946-HpVYM",
        "colab_type": "code",
        "outputId": "4ae10cd8-ce6a-4672-f473-e9947f445a2b",
        "colab": {
          "base_uri": "https://localhost:8080/",
          "height": 34
        }
      },
      "source": [
        "def dataanalysiswordcount(filename,word):\n",
        "  f=open(filename,\"r\");\n",
        "  if f.mode==\"r\":\n",
        "    x=f.read();\n",
        "    lst=x.split();\n",
        "  cnt=lst.count(word);\n",
        "  return cnt;\n",
        "print(dataanalysiswordcount(\"file1.txt\",\"rest\"))"
      ],
      "execution_count": 0,
      "outputs": [
        {
          "output_type": "stream",
          "text": [
            "0\n"
          ],
          "name": "stdout"
        }
      ]
    },
    {
      "cell_type": "code",
      "metadata": {
        "id": "tt4SQhUYxEwG",
        "colab_type": "code",
        "outputId": "165eba17-4ae2-4361-eba7-61409bc08ab2",
        "colab": {
          "base_uri": "https://localhost:8080/",
          "height": 51
        }
      },
      "source": [
        "#count characters in a file\n",
        "def dataanalysischarcount(filename):\n",
        "  f=open(filename,\"r\");\n",
        "  if f.mode==\"r\":\n",
        "    x=f.read();\n",
        "    lst=x.split();\n",
        "  cnt=0;\n",
        "  print(len(lst))\n",
        "  \n",
        "  \n",
        "print(dataanalysischarcount(\"file1.txt\"))"
      ],
      "execution_count": 0,
      "outputs": [
        {
          "output_type": "stream",
          "text": [
            "63\n",
            "52\n"
          ],
          "name": "stdout"
        }
      ]
    },
    {
      "cell_type": "code",
      "metadata": {
        "id": "oyQe1T4LzwiC",
        "colab_type": "code",
        "outputId": "e1137223-4764-47c7-8ca4-217c4a3cca9b",
        "colab": {
          "base_uri": "https://localhost:8080/",
          "height": 51
        }
      },
      "source": [
        "#count upper case character\n",
        "def dataanalysischarcount(filename):\n",
        "  f=open(filename,\"r\");\n",
        "  if f.mode==\"r\":\n",
        "    x=f.read();\n",
        "    lst=list(x);\n",
        "    lst=x.split();\n",
        "  o=0;\n",
        "  print(len(lst))\n",
        "  for x in range(len(lst)):\n",
        "        \n",
        "        \n",
        "        \n",
        "        if (lst[x])>='A' and (lst[x]<='Z'):\n",
        "            o+=1;\n",
        "        return o;\n",
        "  \n",
        "print(dataanalysischarcount(\"file1.txt\"))"
      ],
      "execution_count": 0,
      "outputs": [
        {
          "output_type": "stream",
          "text": [
            "63\n",
            "0\n"
          ],
          "name": "stdout"
        }
      ]
    },
    {
      "cell_type": "code",
      "metadata": {
        "id": "ZsJKLslR2il0",
        "colab_type": "code",
        "outputId": "b5d54fa9-be7e-45f1-ac0a-bbf771ac40fc",
        "colab": {
          "base_uri": "https://localhost:8080/",
          "height": 34
        }
      },
      "source": [
        "def uppercasecount(filename):\n",
        "  cntupper=0\n",
        "  f=open(filename,\"r\");\n",
        "  if f.mode==\"r\":\n",
        "    x=f.read();\n",
        "    lst=list(x);\n",
        "    def uppercasecount(filename):\n",
        "  cntupper=0\n",
        "  f=open(filename,\"r\");\n",
        "  if f.mode==\"r\":\n",
        "    x=f.read();\n",
        "    lst=list(x);\n",
        "  for i in lst:\n",
        "    if i.isupper():\n",
        "      cntupper+=1\n",
        "  return cntupper\n",
        "uppercasecount(\"file1.txt\")\n",
        "  for i in lst:\n",
        "    if i.isupper():\n",
        "      cntupper+=1\n",
        "  return cntupper\n",
        "uppercasecount(\"file1.txt\")"
      ],
      "execution_count": 0,
      "outputs": [
        {
          "output_type": "execute_result",
          "data": {
            "text/plain": [
              "0"
            ]
          },
          "metadata": {
            "tags": []
          },
          "execution_count": 30
        }
      ]
    },
    {
      "cell_type": "code",
      "metadata": {
        "id": "g0N9C9w68qDA",
        "colab_type": "code",
        "colab": {}
      },
      "source": [
        ""
      ],
      "execution_count": 0,
      "outputs": []
    },
    {
      "cell_type": "code",
      "metadata": {
        "id": "uh_WZAss3o2h",
        "colab_type": "code",
        "outputId": "9eba359a-4b95-412b-bfe2-9f6367a4a1a4",
        "colab": {
          "base_uri": "https://localhost:8080/",
          "height": 34
        }
      },
      "source": [
        "#function to count lines in a file\n",
        "def uppercasecount(filename):\n",
        "  cntupper=0\n",
        "  f=open(filename,\"r\");\n",
        "  if f.mode==\"r\":\n",
        "    x=f.read();\n",
        "    \n",
        "    lst=x.split(\"\\n\");\n",
        "  return len(lst)-1 \n",
        "  \n",
        "  return cntupper\n",
        "uppercasecount(\"file1.txt\")"
      ],
      "execution_count": 0,
      "outputs": [
        {
          "output_type": "execute_result",
          "data": {
            "text/plain": [
              "1"
            ]
          },
          "metadata": {
            "tags": []
          },
          "execution_count": 33
        }
      ]
    },
    {
      "cell_type": "code",
      "metadata": {
        "id": "t1vEb9_h7guJ",
        "colab_type": "code",
        "outputId": "be2310f9-3082-4d04-a34f-e79d4cc5c00a",
        "colab": {
          "base_uri": "https://localhost:8080/",
          "height": 131
        }
      },
      "source": [
        "sudo nano file1.txt\n"
      ],
      "execution_count": 0,
      "outputs": [
        {
          "output_type": "error",
          "ename": "SyntaxError",
          "evalue": "ignored",
          "traceback": [
            "\u001b[0;36m  File \u001b[0;32m\"<ipython-input-35-b55ac535779c>\"\u001b[0;36m, line \u001b[0;32m1\u001b[0m\n\u001b[0;31m    sudo nano file1.txt\u001b[0m\n\u001b[0m            ^\u001b[0m\n\u001b[0;31mSyntaxError\u001b[0m\u001b[0;31m:\u001b[0m invalid syntax\n"
          ]
        }
      ]
    },
    {
      "cell_type": "code",
      "metadata": {
        "id": "Y3J6kpZjZHuo",
        "colab_type": "code",
        "outputId": "56adc9bf-8fef-43bc-fd48-a2016f15fae9",
        "colab": {
          "base_uri": "https://localhost:8080/",
          "height": 52
        }
      },
      "source": [
        "import re\n",
        "def phoneno(phone):\n",
        "  pattern=\"^[6-9][0-9]{9}$|^[0][6-9][0-9]{9}$\"\n",
        "  phone=str(phone);\n",
        "  if re.match(pattern,phone):\n",
        "    return True;\n",
        "  return False;\n",
        "print(phoneno(8639278361))\n",
        "print(phoneno(8639278362))"
      ],
      "execution_count": 0,
      "outputs": [
        {
          "output_type": "stream",
          "text": [
            "True\n",
            "True\n"
          ],
          "name": "stdout"
        }
      ]
    },
    {
      "cell_type": "code",
      "metadata": {
        "id": "3ieFHkZ4dqYP",
        "colab_type": "code",
        "outputId": "76733a4d-9ba1-4209-df7f-1259b0439a33",
        "colab": {
          "base_uri": "https://localhost:8080/",
          "height": 52
        }
      },
      "source": [
        "#re--validation of roll number\n",
        "import re;\n",
        "def validroll(number):\n",
        "  number=str(number);\n",
        "  pattern=\"^[1][5][2][U][1][A][0][5][0-6][0-9]$\";\n",
        "  if re.match(pattern,number):\n",
        "    return True;\n",
        "  return False;\n",
        "print(validroll(\"152U1A0547\"))\n",
        "print(validroll(8639278362))"
      ],
      "execution_count": 0,
      "outputs": [
        {
          "output_type": "stream",
          "text": [
            "True\n",
            "False\n"
          ],
          "name": "stdout"
        }
      ]
    },
    {
      "cell_type": "code",
      "metadata": {
        "id": "yZL5fJ_mhBtN",
        "colab_type": "code",
        "outputId": "a02c1568-9a0d-465e-9be5-d654291ceca6",
        "colab": {
          "base_uri": "https://localhost:8080/",
          "height": 35
        }
      },
      "source": [
        "def validemailid(email):\n",
        "  pattern=\"^[0-9a-z][0-9a-z_.]{4,13}\"\n",
        "  if re.match(pattern,email):\n",
        "    return True;\n",
        "  return False;\n",
        "print(validemailid(\"anil@gmail.com\"))"
      ],
      "execution_count": 0,
      "outputs": [
        {
          "output_type": "stream",
          "text": [
            "False\n"
          ],
          "name": "stdout"
        }
      ]
    },
    {
      "cell_type": "code",
      "metadata": {
        "id": "DP36dlOmqKfK",
        "colab_type": "code",
        "outputId": "12f25945-e8f8-4304-f6b5-9ecda049599a",
        "colab": {
          "base_uri": "https://localhost:8080/",
          "height": 35
        }
      },
      "source": [
        "def validpassword(s):\n",
        "  pattern=\"^[a-zA-z0-9!@#$]{6,15}$\"\n",
        "  if re.match(pattern,s):\n",
        "    return True;\n",
        "  return False;\n",
        "print(validpassword(\"manishseth\"))\n",
        "    "
      ],
      "execution_count": 0,
      "outputs": [
        {
          "output_type": "stream",
          "text": [
            "True\n"
          ],
          "name": "stdout"
        }
      ]
    },
    {
      "cell_type": "code",
      "metadata": {
        "id": "Af8F3zTv2I2o",
        "colab_type": "code",
        "outputId": "5c914f7b-2c86-46a2-eb63-1e478a3cc80f",
        "colab": {
          "base_uri": "https://localhost:8080/",
          "height": 35
        }
      },
      "source": [
        "\n",
        "#assignment 4:30\n",
        "\n",
        "def createfile(filename):\n",
        "  f=open(filename,\"w\");\n",
        "  for i in range(10):\n",
        "    f.write(\"this is %d time i played cricket\"%i);\n",
        "  print(\"file is created successfully and data is written\");\n",
        "  f.close();\n",
        "  return;\n",
        "createfile(\"file2.txt\")"
      ],
      "execution_count": 0,
      "outputs": [
        {
          "output_type": "stream",
          "text": [
            "file is created successfully and data is written\n"
          ],
          "name": "stdout"
        }
      ]
    },
    {
      "cell_type": "code",
      "metadata": {
        "id": "OYpcacm-2LmO",
        "colab_type": "code",
        "outputId": "2b700970-7f68-4a20-e6d9-eb8cdef1580d",
        "colab": {
          "base_uri": "https://localhost:8080/",
          "height": 35
        }
      },
      "source": [
        "ls\n"
      ],
      "execution_count": 0,
      "outputs": [
        {
          "output_type": "stream",
          "text": [
            "file1.txt  file2.txt  \u001b[0m\u001b[01;34msample_data\u001b[0m/\n"
          ],
          "name": "stdout"
        }
      ]
    },
    {
      "cell_type": "code",
      "metadata": {
        "id": "9ri6Nllr2Lbg",
        "colab_type": "code",
        "outputId": "2b4c2f24-d4d7-4bd2-f68f-dc826cc495d2",
        "colab": {
          "base_uri": "https://localhost:8080/",
          "height": 55
        }
      },
      "source": [
        "def readfile(filename):\n",
        "  f=open(filename,\"r\");\n",
        "  if f.mode==\"r\":\n",
        "    x=f.read();\n",
        "    print(x,end=\" \");\n",
        "  f.close();\n",
        "  return;\n",
        "readfile(\"file2.txt\")"
      ],
      "execution_count": 0,
      "outputs": [
        {
          "output_type": "stream",
          "text": [
            "this is 0 time i played cricketthis is 1 time i played cricketthis is 2 time i played cricketthis is 3 time i played cricketthis is 4 time i played cricketthis is 5 time i played cricketthis is 6 time i played cricketthis is 7 time i played cricketthis is 8 time i played cricketthis is 9 time i played cricket "
          ],
          "name": "stdout"
        }
      ]
    },
    {
      "cell_type": "code",
      "metadata": {
        "id": "u0i27gZZ2LQ5",
        "colab_type": "code",
        "colab": {}
      },
      "source": [
        ""
      ],
      "execution_count": 0,
      "outputs": []
    },
    {
      "cell_type": "code",
      "metadata": {
        "id": "PYNtAYVy2LGJ",
        "colab_type": "code",
        "colab": {}
      },
      "source": [
        ""
      ],
      "execution_count": 0,
      "outputs": []
    },
    {
      "cell_type": "code",
      "metadata": {
        "id": "xQsPoSU82K78",
        "colab_type": "code",
        "colab": {}
      },
      "source": [
        ""
      ],
      "execution_count": 0,
      "outputs": []
    },
    {
      "cell_type": "code",
      "metadata": {
        "id": "hkNdcTJF2Kxm",
        "colab_type": "code",
        "colab": {}
      },
      "source": [
        ""
      ],
      "execution_count": 0,
      "outputs": []
    },
    {
      "cell_type": "code",
      "metadata": {
        "id": "EOoTETN_2Knh",
        "colab_type": "code",
        "colab": {}
      },
      "source": [
        ""
      ],
      "execution_count": 0,
      "outputs": []
    },
    {
      "cell_type": "code",
      "metadata": {
        "id": "Dkhm5TwE2KdW",
        "colab_type": "code",
        "colab": {}
      },
      "source": [
        ""
      ],
      "execution_count": 0,
      "outputs": []
    },
    {
      "cell_type": "code",
      "metadata": {
        "id": "OL8_hX4Y2KS6",
        "colab_type": "code",
        "colab": {}
      },
      "source": [
        ""
      ],
      "execution_count": 0,
      "outputs": []
    },
    {
      "cell_type": "code",
      "metadata": {
        "id": "wjWwkrfI2KJR",
        "colab_type": "code",
        "colab": {}
      },
      "source": [
        ""
      ],
      "execution_count": 0,
      "outputs": []
    },
    {
      "cell_type": "code",
      "metadata": {
        "id": "MmgA5b5U2J_p",
        "colab_type": "code",
        "colab": {}
      },
      "source": [
        ""
      ],
      "execution_count": 0,
      "outputs": []
    },
    {
      "cell_type": "code",
      "metadata": {
        "id": "wN_UvRy72J2I",
        "colab_type": "code",
        "colab": {}
      },
      "source": [
        ""
      ],
      "execution_count": 0,
      "outputs": []
    },
    {
      "cell_type": "code",
      "metadata": {
        "id": "tGEx4LTe2Jsh",
        "colab_type": "code",
        "colab": {}
      },
      "source": [
        ""
      ],
      "execution_count": 0,
      "outputs": []
    },
    {
      "cell_type": "code",
      "metadata": {
        "id": "Ikhg2PYN2Ji7",
        "colab_type": "code",
        "colab": {}
      },
      "source": [
        ""
      ],
      "execution_count": 0,
      "outputs": []
    },
    {
      "cell_type": "code",
      "metadata": {
        "id": "HKsS7tP02JZ1",
        "colab_type": "code",
        "colab": {}
      },
      "source": [
        ""
      ],
      "execution_count": 0,
      "outputs": []
    },
    {
      "cell_type": "code",
      "metadata": {
        "id": "TeTwD5G52JRF",
        "colab_type": "code",
        "colab": {}
      },
      "source": [
        ""
      ],
      "execution_count": 0,
      "outputs": []
    },
    {
      "cell_type": "code",
      "metadata": {
        "id": "VNEN55FF2JIF",
        "colab_type": "code",
        "colab": {}
      },
      "source": [
        ""
      ],
      "execution_count": 0,
      "outputs": []
    }
  ]
}