{
  "nbformat": 4,
  "nbformat_minor": 0,
  "metadata": {
    "colab": {
      "name": "27-06-19.ipynb",
      "version": "0.3.2",
      "provenance": [],
      "include_colab_link": true
    },
    "kernelspec": {
      "name": "python3",
      "display_name": "Python 3"
    }
  },
  "cells": [
    {
      "cell_type": "markdown",
      "metadata": {
        "id": "view-in-github",
        "colab_type": "text"
      },
      "source": [
        "<a href=\"https://colab.research.google.com/github/CreamRohith/git-/blob/master/27_06_19.ipynb\" target=\"_parent\"><img src=\"https://colab.research.google.com/assets/colab-badge.svg\" alt=\"Open In Colab\"/></a>"
      ]
    },
    {
      "cell_type": "code",
      "metadata": {
        "id": "dOLh5i_jUDIb",
        "colab_type": "code",
        "outputId": "28fede67-c181-43c1-f58d-6a0290a530fb",
        "colab": {
          "base_uri": "https://localhost:8080/",
          "height": 34
        }
      },
      "source": [
        "def createfile(filename):\n",
        "  f=open(filename,\"w\");\n",
        "  for i in range(10):\n",
        "    f.write(\"this is %d time i loved her\"%i);\n",
        "  print(\"file is created successfully and data is written\");\n",
        "  f.close();\n",
        "  return;\n",
        "createfile(\"file1.txt\")"
      ],
      "execution_count": 0,
      "outputs": [
        {
          "output_type": "stream",
          "text": [
            "file is created successfully and data is written\n"
          ],
          "name": "stdout"
        }
      ]
    },
    {
      "cell_type": "code",
      "metadata": {
        "id": "CTi7C5MYXdKF",
        "colab_type": "code",
        "outputId": "c156cd94-dbf2-44cd-fb4a-d177b5642fca",
        "colab": {
          "base_uri": "https://localhost:8080/",
          "height": 54
        }
      },
      "source": [
        "def readfile(filename):\n",
        "  f=open(filename,\"r\");\n",
        "  if f.mode==\"r\":\n",
        "    x=f.read();\n",
        "    print(x);\n",
        "  f.close();\n",
        "  return;\n",
        "readfile(\"file1.txt\")"
      ],
      "execution_count": 0,
      "outputs": [
        {
          "output_type": "stream",
          "text": [
            "this is 0 time i loved herthis is 1 time i loved herthis is 2 time i loved herthis is 3 time i loved herthis is 4 time i loved herthis is 5 time i loved herthis is 6 time i loved herthis is 7 time i loved herthis is 8 time i loved herthis is 9 time i loved her\n"
          ],
          "name": "stdout"
        }
      ]
    },
    {
      "cell_type": "code",
      "metadata": {
        "id": "v8Y4P0npZ9Kw",
        "colab_type": "code",
        "outputId": "78ee27a3-83a5-40e9-dc8a-2683f0bb9915",
        "colab": {
          "base_uri": "https://localhost:8080/",
          "height": 54
        }
      },
      "source": [
        "def readfile(filename):\n",
        "  f=open(filename,\"r\");\n",
        "  if f.mode==\"r\":\n",
        "    x=f.read();\n",
        "    print(x);\n",
        "  f.close();\n",
        "  return;\n",
        "readfile(\"file1.txt\")"
      ],
      "execution_count": 0,
      "outputs": [
        {
          "output_type": "stream",
          "text": [
            "this is 0 time i loved herthis is 1 time i loved herthis is 2 time i loved herthis is 3 time i loved herthis is 4 time i loved herthis is 5 time i loved herthis is 6 time i loved herthis is 7 time i loved herthis is 8 time i loved herthis is 9 time i loved her\n"
          ],
          "name": "stdout"
        }
      ]
    },
    {
      "cell_type": "code",
      "metadata": {
        "id": "17Hs4fa3cSUf",
        "colab_type": "code",
        "colab": {
          "base_uri": "https://localhost:8080/",
          "height": 34
        },
        "outputId": "fb4fceef-8886-4a34-f5f7-67b87a852386"
      },
      "source": [
        "ls\n"
      ],
      "execution_count": 11,
      "outputs": [
        {
          "output_type": "stream",
          "text": [
            "file1.txt  \u001b[0m\u001b[01;34msample_data\u001b[0m/\n"
          ],
          "name": "stdout"
        }
      ]
    },
    {
      "cell_type": "code",
      "metadata": {
        "id": "wfJPH9x-pA8I",
        "colab_type": "code",
        "colab": {
          "base_uri": "https://localhost:8080/",
          "height": 54
        },
        "outputId": "d5296607-3e78-417e-8650-e28494dcbbba"
      },
      "source": [
        "cat file1.txt"
      ],
      "execution_count": 15,
      "outputs": [
        {
          "output_type": "stream",
          "text": [
            "this is 0 time i loved herthis is 1 time i loved herthis is 2 time i loved herthis is 3 time i loved herthis is 4 time i loved herthis is 5 time i loved herthis is 6 time i loved herthis is 7 time i loved herthis is 8 time i loved herthis is 9 time i loved hernew line 1\n"
          ],
          "name": "stdout"
        }
      ]
    },
    {
      "cell_type": "code",
      "metadata": {
        "id": "Vpi-ecJ-cSjn",
        "colab_type": "code",
        "colab": {}
      },
      "source": [
        "def appenddata(filename):\n",
        "  f=open(filename,\"a\");\n",
        "  f.write(\"new line 1\\n\");\n",
        "  f.close()\n",
        "  return;\n",
        "appenddata(\"file1.txt\")\n"
      ],
      "execution_count": 0,
      "outputs": []
    },
    {
      "cell_type": "code",
      "metadata": {
        "id": "vt7Np73Jo8Zd",
        "colab_type": "code",
        "colab": {
          "base_uri": "https://localhost:8080/",
          "height": 34
        },
        "outputId": "f36c5695-01ae-40d1-bfb4-035dfea8b216"
      },
      "source": [
        "ls\n"
      ],
      "execution_count": 14,
      "outputs": [
        {
          "output_type": "stream",
          "text": [
            "file1.txt  \u001b[0m\u001b[01;34msample_data\u001b[0m/\n"
          ],
          "name": "stdout"
        }
      ]
    },
    {
      "cell_type": "code",
      "metadata": {
        "id": "vYn9_dkro_Lp",
        "colab_type": "code",
        "colab": {
          "base_uri": "https://localhost:8080/",
          "height": 54
        },
        "outputId": "6c0b6f80-dea6-49f0-d556-bc46221a0c35"
      },
      "source": [
        "cat file1.txt"
      ],
      "execution_count": 16,
      "outputs": [
        {
          "output_type": "stream",
          "text": [
            "this is 0 time i loved herthis is 1 time i loved herthis is 2 time i loved herthis is 3 time i loved herthis is 4 time i loved herthis is 5 time i loved herthis is 6 time i loved herthis is 7 time i loved herthis is 8 time i loved herthis is 9 time i loved hernew line 1\n"
          ],
          "name": "stdout"
        }
      ]
    },
    {
      "cell_type": "code",
      "metadata": {
        "id": "Us-946-HpVYM",
        "colab_type": "code",
        "colab": {
          "base_uri": "https://localhost:8080/",
          "height": 34
        },
        "outputId": "4ae10cd8-ce6a-4672-f473-e9947f445a2b"
      },
      "source": [
        "def dataanalysiswordcount(filename,word):\n",
        "  f=open(filename,\"r\");\n",
        "  if f.mode==\"r\":\n",
        "    x=f.read();\n",
        "    lst=x.split();\n",
        "  cnt=lst.count(word);\n",
        "  return cnt;\n",
        "print(dataanalysiswordcount(\"file1.txt\",\"rest\"))"
      ],
      "execution_count": 17,
      "outputs": [
        {
          "output_type": "stream",
          "text": [
            "0\n"
          ],
          "name": "stdout"
        }
      ]
    },
    {
      "cell_type": "code",
      "metadata": {
        "id": "tt4SQhUYxEwG",
        "colab_type": "code",
        "colab": {
          "base_uri": "https://localhost:8080/",
          "height": 51
        },
        "outputId": "165eba17-4ae2-4361-eba7-61409bc08ab2"
      },
      "source": [
        "#count characters in a file\n",
        "def dataanalysischarcount(filename):\n",
        "  f=open(filename,\"r\");\n",
        "  if f.mode==\"r\":\n",
        "    x=f.read();\n",
        "    lst=x.split();\n",
        "  cnt=0;\n",
        "  print(len(lst))\n",
        "  \n",
        "  \n",
        "print(dataanalysischarcount(\"file1.txt\"))"
      ],
      "execution_count": 20,
      "outputs": [
        {
          "output_type": "stream",
          "text": [
            "63\n",
            "52\n"
          ],
          "name": "stdout"
        }
      ]
    },
    {
      "cell_type": "code",
      "metadata": {
        "id": "oyQe1T4LzwiC",
        "colab_type": "code",
        "colab": {
          "base_uri": "https://localhost:8080/",
          "height": 51
        },
        "outputId": "e1137223-4764-47c7-8ca4-217c4a3cca9b"
      },
      "source": [
        "#count upper case character\n",
        "def dataanalysischarcount(filename):\n",
        "  f=open(filename,\"r\");\n",
        "  if f.mode==\"r\":\n",
        "    x=f.read();\n",
        "    lst=list(x);\n",
        "    lst=x.split();\n",
        "  o=0;\n",
        "  print(len(lst))\n",
        "  for x in range(len(lst)):\n",
        "        \n",
        "        \n",
        "        \n",
        "        if (lst[x])>='A' and (lst[x]<='Z'):\n",
        "            o+=1;\n",
        "        return o;\n",
        "  \n",
        "print(dataanalysischarcount(\"file1.txt\"))"
      ],
      "execution_count": 26,
      "outputs": [
        {
          "output_type": "stream",
          "text": [
            "63\n",
            "0\n"
          ],
          "name": "stdout"
        }
      ]
    },
    {
      "cell_type": "code",
      "metadata": {
        "id": "ZsJKLslR2il0",
        "colab_type": "code",
        "colab": {
          "base_uri": "https://localhost:8080/",
          "height": 34
        },
        "outputId": "b5d54fa9-be7e-45f1-ac0a-bbf771ac40fc"
      },
      "source": [
        "def uppercasecount(filename):\n",
        "  cntupper=0\n",
        "  f=open(filename,\"r\");\n",
        "  if f.mode==\"r\":\n",
        "    x=f.read();\n",
        "    lst=list(x);\n",
        "    def uppercasecount(filename):\n",
        "  cntupper=0\n",
        "  f=open(filename,\"r\");\n",
        "  if f.mode==\"r\":\n",
        "    x=f.read();\n",
        "    lst=list(x);\n",
        "  for i in lst:\n",
        "    if i.isupper():\n",
        "      cntupper+=1\n",
        "  return cntupper\n",
        "uppercasecount(\"file1.txt\")\n",
        "  for i in lst:\n",
        "    if i.isupper():\n",
        "      cntupper+=1\n",
        "  return cntupper\n",
        "uppercasecount(\"file1.txt\")"
      ],
      "execution_count": 30,
      "outputs": [
        {
          "output_type": "execute_result",
          "data": {
            "text/plain": [
              "0"
            ]
          },
          "metadata": {
            "tags": []
          },
          "execution_count": 30
        }
      ]
    },
    {
      "cell_type": "code",
      "metadata": {
        "id": "g0N9C9w68qDA",
        "colab_type": "code",
        "colab": {}
      },
      "source": [
        ""
      ],
      "execution_count": 0,
      "outputs": []
    },
    {
      "cell_type": "code",
      "metadata": {
        "id": "uh_WZAss3o2h",
        "colab_type": "code",
        "colab": {
          "base_uri": "https://localhost:8080/",
          "height": 34
        },
        "outputId": "9eba359a-4b95-412b-bfe2-9f6367a4a1a4"
      },
      "source": [
        "#function to count lines in a file\n",
        "def uppercasecount(filename):\n",
        "  cntupper=0\n",
        "  f=open(filename,\"r\");\n",
        "  if f.mode==\"r\":\n",
        "    x=f.read();\n",
        "    \n",
        "    lst=x.split(\"\\n\");\n",
        "  return len(lst)-1 \n",
        "  \n",
        "  return cntupper\n",
        "uppercasecount(\"file1.txt\")"
      ],
      "execution_count": 33,
      "outputs": [
        {
          "output_type": "execute_result",
          "data": {
            "text/plain": [
              "1"
            ]
          },
          "metadata": {
            "tags": []
          },
          "execution_count": 33
        }
      ]
    },
    {
      "cell_type": "code",
      "metadata": {
        "id": "t1vEb9_h7guJ",
        "colab_type": "code",
        "colab": {
          "base_uri": "https://localhost:8080/",
          "height": 129
        },
        "outputId": "e29d6127-95fe-416a-dd5f-828157c7d155"
      },
      "source": [
        "sudo nano file1.txt\n"
      ],
      "execution_count": 34,
      "outputs": [
        {
          "output_type": "error",
          "ename": "SyntaxError",
          "evalue": "ignored",
          "traceback": [
            "\u001b[0;36m  File \u001b[0;32m\"<ipython-input-34-b55ac535779c>\"\u001b[0;36m, line \u001b[0;32m1\u001b[0m\n\u001b[0;31m    sudo nano file1.txt\u001b[0m\n\u001b[0m            ^\u001b[0m\n\u001b[0;31mSyntaxError\u001b[0m\u001b[0;31m:\u001b[0m invalid syntax\n"
          ]
        }
      ]
    }
  ]
}