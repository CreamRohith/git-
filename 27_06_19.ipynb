{
  "nbformat": 4,
  "nbformat_minor": 0,
  "metadata": {
    "colab": {
      "name": "27-06-19.ipynb",
      "version": "0.3.2",
      "provenance": [],
      "include_colab_link": true
    },
    "kernelspec": {
      "name": "python3",
      "display_name": "Python 3"
    }
  },
  "cells": [
    {
      "cell_type": "markdown",
      "metadata": {
        "id": "view-in-github",
        "colab_type": "text"
      },
      "source": [
        "<a href=\"https://colab.research.google.com/github/CreamRohith/git-/blob/master/27_06_19.ipynb\" target=\"_parent\"><img src=\"https://colab.research.google.com/assets/colab-badge.svg\" alt=\"Open In Colab\"/></a>"
      ]
    },
    {
      "cell_type": "code",
      "metadata": {
        "id": "dOLh5i_jUDIb",
        "colab_type": "code",
        "colab": {
          "base_uri": "https://localhost:8080/",
          "height": 34
        },
        "outputId": "28fede67-c181-43c1-f58d-6a0290a530fb"
      },
      "source": [
        "def createfile(filename):\n",
        "  f=open(filename,\"w\");\n",
        "  for i in range(10):\n",
        "    f.write(\"this is %d time i loved her\"%i);\n",
        "  print(\"file is created successfully and data is written\");\n",
        "  f.close();\n",
        "  return;\n",
        "createfile(\"file1.txt\")"
      ],
      "execution_count": 2,
      "outputs": [
        {
          "output_type": "stream",
          "text": [
            "file is created successfully and data is written\n"
          ],
          "name": "stdout"
        }
      ]
    },
    {
      "cell_type": "code",
      "metadata": {
        "id": "CTi7C5MYXdKF",
        "colab_type": "code",
        "colab": {
          "base_uri": "https://localhost:8080/",
          "height": 54
        },
        "outputId": "c156cd94-dbf2-44cd-fb4a-d177b5642fca"
      },
      "source": [
        "def readfile(filename):\n",
        "  f=open(filename,\"r\");\n",
        "  if f.mode==\"r\":\n",
        "    x=f.read();\n",
        "    print(x);\n",
        "  f.close();\n",
        "  return;\n",
        "readfile(\"file1.txt\")"
      ],
      "execution_count": 8,
      "outputs": [
        {
          "output_type": "stream",
          "text": [
            "this is 0 time i loved herthis is 1 time i loved herthis is 2 time i loved herthis is 3 time i loved herthis is 4 time i loved herthis is 5 time i loved herthis is 6 time i loved herthis is 7 time i loved herthis is 8 time i loved herthis is 9 time i loved her\n"
          ],
          "name": "stdout"
        }
      ]
    },
    {
      "cell_type": "code",
      "metadata": {
        "id": "v8Y4P0npZ9Kw",
        "colab_type": "code",
        "colab": {}
      },
      "source": [
        "def readfile(filename):\n",
        "  f=open(filename,\"r\");\n",
        "  if f.mode==\"r\":\n",
        "    x=f.read();\n",
        "    print(x);\n",
        "  f.close();\n",
        "  return;\n",
        "readfile(\"file1.txt\")"
      ],
      "execution_count": 0,
      "outputs": []
    }
  ]
}