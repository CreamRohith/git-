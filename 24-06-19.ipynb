{
 "cells": [
  {
   "cell_type": "code",
   "execution_count": 4,
   "metadata": {},
   "outputs": [
    {
     "name": "stdout",
     "output_type": "stream",
     "text": [
      "1 4\n"
     ]
    }
   ],
   "source": [
    "def all(x=1,y=2):\n",
    "    print(x,y);\n",
    "all(y=4,x=1)"
   ]
  },
  {
   "cell_type": "code",
   "execution_count": 12,
   "metadata": {},
   "outputs": [
    {
     "name": "stdout",
     "output_type": "stream",
     "text": [
      "2\n",
      "4\n",
      "6\n",
      "8\n",
      "20\n"
     ]
    }
   ],
   "source": [
    "\n",
    "#even number printing\n",
    "def even(n):\n",
    "    k=1;\n",
    "    sum=0;\n",
    "    while(k<=n):\n",
    "        if(k%2==0):\n",
    "            print(k) ;\n",
    "            sum=sum+k;\n",
    "        k+=1;\n",
    "    return sum;\n",
    "print (even(8));"
   ]
  },
  {
   "cell_type": "code",
   "execution_count": 10,
   "metadata": {},
   "outputs": [
    {
     "name": "stdout",
     "output_type": "stream",
     "text": [
      "1\n",
      "2\n",
      "4\n",
      "8\n"
     ]
    }
   ],
   "source": [
    "#factors of numbers\n",
    "def factors(n):\n",
    "    k=1;\n",
    "    while(k<=n):\n",
    "        if(n%k==0):\n",
    "            print(k);\n",
    "        k+=1;\n",
    "    return;\n",
    "factors(8);\n",
    "            "
   ]
  },
  {
   "cell_type": "code",
   "execution_count": 19,
   "metadata": {},
   "outputs": [
    {
     "name": "stdout",
     "output_type": "stream",
     "text": [
      "[1, 2, 3, 4, 5]\n",
      "5\n"
     ]
    }
   ],
   "source": [
    "list=[1,2,3,4,5];\n",
    "print(list);\n",
    "print(list[4]);"
   ]
  },
  {
   "cell_type": "code",
   "execution_count": 23,
   "metadata": {},
   "outputs": [
    {
     "name": "stdout",
     "output_type": "stream",
     "text": [
      "arun\n",
      "aruvi\n",
      "for\n"
     ]
    }
   ],
   "source": [
    "#list in python\n",
    "friends=['arun',\"aruvi\",\"for\"];\n",
    "for x in friends:\n",
    "    \n",
    "    print(x);\n",
    "    \n"
   ]
  },
  {
   "cell_type": "code",
   "execution_count": 30,
   "metadata": {},
   "outputs": [
    {
     "name": "stdout",
     "output_type": "stream",
     "text": [
      "1\n",
      "2\n",
      "3\n",
      "4\n",
      "15\n",
      "6\n",
      "7\n",
      "\n",
      "15\n",
      "[3, 4, 15]\n",
      "[1, 2, 3, 4, 15]\n"
     ]
    }
   ],
   "source": [
    "#list printing various types\n",
    "list=[1,2,3,4,15,6,7];\n",
    "for x in list:\n",
    "    print(x);\n",
    "print();\n",
    "print(list[4])\n",
    "print(list[2:5])\n",
    "print(list[:5])"
   ]
  },
  {
   "cell_type": "code",
   "execution_count": 37,
   "metadata": {},
   "outputs": [
    {
     "name": "stdout",
     "output_type": "stream",
     "text": [
      "1 2 3 4 15 6 7 \n",
      "[2, 3, 4, 15, 6]\n",
      "[3, 4, 15]\n",
      "[15, 4, 3, 2, 1]\n"
     ]
    }
   ],
   "source": [
    "#in -1 subtrcted the elements present in beg and at the end position are deleted\n",
    "# :: means reverse printing\n",
    "list=[1,2,3,4,15,6,7];\n",
    "for x in list:\n",
    "    print(x,end=\" \");\n",
    "print();\n",
    "print(list[1:-1])\n",
    "print(list[2:-2])\n",
    "print(list[4::-1])\n",
    "\n",
    "\n"
   ]
  },
  {
   "cell_type": "code",
   "execution_count": 41,
   "metadata": {},
   "outputs": [
    {
     "name": "stdout",
     "output_type": "stream",
     "text": [
      "['aal', 'suj', 'nabi']\n",
      "['aal', 'mahi']\n"
     ]
    }
   ],
   "source": [
    "list=[\"aal\",\"suj\",\"nabi\"];\n",
    "print(list);\n",
    "list[2]=\"rohi\"\n",
    "del list[1];#deleting item\n",
    "list[1]=\"mahi\";#replacing the item in the list\n",
    "\n",
    "print(list);"
   ]
  },
  {
   "cell_type": "code",
   "execution_count": 67,
   "metadata": {},
   "outputs": [
    {
     "name": "stdout",
     "output_type": "stream",
     "text": [
      "['aal', 'suj', 'nabi', 1, 3, 4, 5]\n",
      "1\n",
      "3\n",
      "['aal', 'suj', 'nabi', 'mahi', [90, 34]]\n"
     ]
    }
   ],
   "source": [
    "list1=[\"aal\",\"suj\",\"nabi\"];\n",
    "list2=[1,3,4,5];\n",
    "print(list1+list2);\n",
    "print(list1.count(\"nabi\"));\n",
    "print(len(list1));\n",
    "list1[len(list1):]=[\"mahi\"]\n",
    "list1.append([90,34]);#append\n",
    "print(list1);\n"
   ]
  },
  {
   "cell_type": "code",
   "execution_count": 65,
   "metadata": {},
   "outputs": [
    {
     "name": "stdout",
     "output_type": "stream",
     "text": [
      "3\n",
      "i\n"
     ]
    }
   ],
   "source": [
    "list1=[\"aal\",\"suj\",\"nabi\"];\n",
    "list2=[1,3,4,5,2,2,2,];\n",
    "print(list2.count(2));\n",
    "list1.insert(1,\"mahi\");#insert\n",
    "print(list1[-1][-1]);"
   ]
  },
  {
   "cell_type": "code",
   "execution_count": 70,
   "metadata": {},
   "outputs": [
    {
     "name": "stdout",
     "output_type": "stream",
     "text": [
      "0\n"
     ]
    }
   ],
   "source": [
    "list1=[\"aal\",\"suj\",\"nabi\"];\n",
    "list2=[1,3,4,5,2,2,2,];\n",
    "print(list1.index(\"aal\"));"
   ]
  },
  {
   "cell_type": "code",
   "execution_count": 72,
   "metadata": {},
   "outputs": [
    {
     "name": "stdout",
     "output_type": "stream",
     "text": [
      "['aal', 'mahi', 'suj', 'nabi']\n"
     ]
    }
   ],
   "source": [
    "list1=[\"aal\",\"suj\",\"nabi\"];\n",
    "list2=[1,3,4,5,2,2,2,];\n",
    "list1.insert(1,\"mahi\");#insert\n",
    "print(list1);"
   ]
  },
  {
   "cell_type": "code",
   "execution_count": 81,
   "metadata": {},
   "outputs": [
    {
     "ename": "SyntaxError",
     "evalue": "invalid syntax (<ipython-input-81-8c4ae0996816>, line 6)",
     "output_type": "error",
     "traceback": [
      "\u001b[1;36m  File \u001b[1;32m\"<ipython-input-81-8c4ae0996816>\"\u001b[1;36m, line \u001b[1;32m6\u001b[0m\n\u001b[1;33m    list1.del(0);\u001b[0m\n\u001b[1;37m            ^\u001b[0m\n\u001b[1;31mSyntaxError\u001b[0m\u001b[1;31m:\u001b[0m invalid syntax\n"
     ]
    }
   ],
   "source": [
    "list1=[\"aal\",\"suj\",\"nabi\"];\n",
    "list2=[1,3,4,5,2,2,2,];\n",
    "list1.remove(\"suj\");\n",
    "print(list1);\n",
    "list1.reverse();\n",
    "list1.del(0);\n",
    "print(list1);"
   ]
  },
  {
   "cell_type": "code",
   "execution_count": 83,
   "metadata": {},
   "outputs": [
    {
     "name": "stdout",
     "output_type": "stream",
     "text": [
      "nabi\n"
     ]
    }
   ],
   "source": [
    "list1=[\"aal\",\"suj\",\"nabi\"];\n",
    "list2=[1,3,4,5,2,2,2,];\n",
    "print(list1[2])\n",
    "\n"
   ]
  },
  {
   "cell_type": "code",
   "execution_count": 102,
   "metadata": {},
   "outputs": [
    {
     "name": "stdout",
     "output_type": "stream",
     "text": [
      "2\n",
      "the element is found in the list\n"
     ]
    }
   ],
   "source": [
    "#data structures\n",
    "#linear search\n",
    "#unique list\n",
    "def linearsearch(a,n):\n",
    "    flag=0;\n",
    "    for x in range(len(a)):\n",
    "         if a[x]==n:\n",
    "            k=n;\n",
    "            flag=1;\n",
    "            break;\n",
    "            \n",
    "    if(flag!=0):\n",
    "        print(k);\n",
    "        print(\"the element is found in the list\");\n",
    "    else:\n",
    "        print(\"not found in the list\");\n",
    "a=[12,2,3,4,5];\n",
    "linearsearch(a,2);\n"
   ]
  },
  {
   "cell_type": "code",
   "execution_count": 107,
   "metadata": {},
   "outputs": [
    {
     "name": "stdout",
     "output_type": "stream",
     "text": [
      "2\n"
     ]
    }
   ],
   "source": [
    "#data structures\n",
    "#linear search\n",
    "#non-unique list\n",
    "def linearsearch(a,n):\n",
    "    flag=0;\n",
    "    for x in range(len(a)):\n",
    "         if a[x]==n:\n",
    "            flag=flag+1;\n",
    "    print(flag);       \n",
    "  \n",
    "a=[12,2,3,4,4,5];\n",
    "linearsearch(a,4);\n"
   ]
  },
  {
   "cell_type": "code",
   "execution_count": 113,
   "metadata": {},
   "outputs": [
    {
     "name": "stdout",
     "output_type": "stream",
     "text": [
      "1\n",
      "4\n",
      "7\n"
     ]
    }
   ],
   "source": [
    "def linearsearch(a,n):\n",
    "    flag=0;\n",
    "    for x in range(len(a)):\n",
    "         if a[x]==n:\n",
    "            print(x);\n",
    "                   \n",
    "  \n",
    "a=[1,5,9,6,5,15,12,5];\n",
    "linearsearch(a,5);\n"
   ]
  },
  {
   "cell_type": "code",
   "execution_count": 126,
   "metadata": {},
   "outputs": [
    {
     "name": "stdout",
     "output_type": "stream",
     "text": [
      "! !  ! ! ! ! !  ! ! ! ! ! ! ! !  "
     ]
    }
   ],
   "source": [
    "def linearsearch(a,n):\n",
    "    \n",
    "    \n",
    "    \n",
    "    for x in range(len(a)):#x is starting from 1\n",
    "         if a[x]==n:\n",
    "                 \n",
    "                j=1;\n",
    "                while(j!=x+1):\n",
    "                    print(\"!\",end=\" \");\n",
    "                    j=j+1;\n",
    "                print(end=\" \");\n",
    "            \n",
    "                \n",
    "\n",
    "     \n",
    "a=[1,5,9,6,5,15,12,5];\n",
    "linearsearch(a,5);\n"
   ]
  },
  {
   "cell_type": "code",
   "execution_count": 151,
   "metadata": {},
   "outputs": [
    {
     "name": "stdout",
     "output_type": "stream",
     "text": [
      "60\n"
     ]
    }
   ],
   "source": [
    "#list solvi ng\n",
    "def linearsearch(a,n):\n",
    "    sum=0;\n",
    "    for x in range(len(a)):\n",
    "        \n",
    "        if(a[x]%3==0 and a[x]%5==0):\n",
    "            \n",
    "            sum=sum+a[x];\n",
    "    return sum;\n",
    "          \n",
    "               \n",
    "            \n",
    "                \n",
    "\n",
    "     \n",
    "a=[15,12,2,9,18,36,45];\n",
    "\n",
    "print(linearsearch(a,5));\n"
   ]
  },
  {
   "cell_type": "code",
   "execution_count": 152,
   "metadata": {},
   "outputs": [
    {
     "ename": "SyntaxError",
     "evalue": "unexpected EOF while parsing (<ipython-input-152-99f7d1446d8a>, line 2)",
     "output_type": "error",
     "traceback": [
      "\u001b[1;36m  File \u001b[1;32m\"<ipython-input-152-99f7d1446d8a>\"\u001b[1;36m, line \u001b[1;32m2\u001b[0m\n\u001b[1;33m    \u001b[0m\n\u001b[1;37m    ^\u001b[0m\n\u001b[1;31mSyntaxError\u001b[0m\u001b[1;31m:\u001b[0m unexpected EOF while parsing\n"
     ]
    }
   ],
   "source": [
    "def linearformattedoutput(a):\n",
    "    "
   ]
  },
  {
   "cell_type": "code",
   "execution_count": 178,
   "metadata": {},
   "outputs": [
    {
     "name": "stdout",
     "output_type": "stream",
     "text": [
      "1\n",
      "3\n",
      "8\n",
      "15\n",
      "5\n"
     ]
    }
   ],
   "source": [
    "def linearsearchoutput(a,n):\n",
    "    sum=0;\n",
    "    for x in range(len(a)):\n",
    "        t=0;\n",
    "        if(x==0 or x==(len(a)-1)):\n",
    "            print(a[x]);\n",
    "        else:\n",
    "            t=a[x-1]*a[x+1];\n",
    "            print(t);\n",
    "        \n",
    "            \n",
    "            \n",
    "            \n",
    "          \n",
    "               \n",
    "            \n",
    "                \n",
    "\n",
    "     \n",
    "a=[1,2,3,4,5];\n",
    "\n",
    "(linearsearchoutput(a,5));\n"
   ]
  },
  {
   "cell_type": "code",
   "execution_count": 177,
   "metadata": {},
   "outputs": [
    {
     "name": "stdout",
     "output_type": "stream",
     "text": [
      "1\n",
      "9\n",
      "19\n",
      "22\n"
     ]
    }
   ],
   "source": [
    "def linearsearchoutput(a,n):\n",
    "    \n",
    "    for x in range(len(a)):\n",
    "        t=0;\n",
    "        if(x==0 or x==(len(a)-1)):\n",
    "            print(a[x]);\n",
    "        elif(a[x-1]%2==0 and a[x+1]%2==0):\n",
    "            print(a[x]);\n",
    "        \n",
    "            \n",
    "            \n",
    "            \n",
    "          \n",
    "               \n",
    "            \n",
    "                \n",
    "\n",
    " \n",
    "\n",
    "    \n",
    "a=[1,6,9,4,16,19,22];\n",
    "\n",
    "(linearsearchoutput(a,5));\n"
   ]
  },
  {
   "cell_type": "code",
   "execution_count": 7,
   "metadata": {},
   "outputs": [
    {
     "name": "stdout",
     "output_type": "stream",
     "text": [
      "enter a number1234\n",
      "[4, 3, 2, 1]\n",
      "[1, 2, 3, 4]\n"
     ]
    }
   ],
   "source": [
    "#input number and output is list\n",
    "k=int(input(\"enter a number\"));\n",
    "a=[]\n",
    "i=0;\n",
    "while(k!=0):\n",
    "    j=k%10;\n",
    "    a.append(j);\n",
    "    k=k/10;\n",
    "    k=int(k);\n",
    "    i+=1;\n",
    "print(a);\n",
    "a.reverse();\n",
    "print(a);\n"
   ]
  },
  {
   "cell_type": "code",
   "execution_count": 25,
   "metadata": {},
   "outputs": [
    {
     "name": "stdout",
     "output_type": "stream",
     "text": [
      "4\n",
      "6\n",
      "14569\n"
     ]
    }
   ],
   "source": [
    "#list to number conversions\n",
    "def nocon(a,n):\n",
    "    sum=0;\n",
    "    for x in range(len(a)):\n",
    "        sum=sum*10+a[x];\n",
    "        if(a[x]%2==0):\n",
    "            print(a[x]);\n",
    "        \n",
    "    return sum;\n",
    "      \n",
    "            \n",
    "            \n",
    "          \n",
    "               \n",
    "            \n",
    "                \n",
    "\n",
    " \n",
    "\n",
    "    \n",
    "a=[1,4,5,6,9];\n",
    "\n",
    "print(nocon(a,5));\n",
    "\n",
    "\n"
   ]
  },
  {
   "cell_type": "code",
   "execution_count": 24,
   "metadata": {},
   "outputs": [
    {
     "name": "stdout",
     "output_type": "stream",
     "text": [
      "[4, 6, 90, 98]\n"
     ]
    },
    {
     "ename": "IndexError",
     "evalue": "list index out of range",
     "output_type": "error",
     "traceback": [
      "\u001b[1;31m---------------------------------------------------------------------------\u001b[0m",
      "\u001b[1;31mIndexError\u001b[0m                                Traceback (most recent call last)",
      "\u001b[1;32m<ipython-input-24-62a1337adc12>\u001b[0m in \u001b[0;36m<module>\u001b[1;34m\u001b[0m\n\u001b[0;32m     10\u001b[0m \u001b[0ma\u001b[0m\u001b[1;33m=\u001b[0m\u001b[1;33m[\u001b[0m\u001b[1;36m1\u001b[0m\u001b[1;33m,\u001b[0m\u001b[1;36m4\u001b[0m\u001b[1;33m,\u001b[0m\u001b[1;36m5\u001b[0m\u001b[1;33m,\u001b[0m\u001b[1;36m6\u001b[0m\u001b[1;33m,\u001b[0m\u001b[1;36m90\u001b[0m\u001b[1;33m,\u001b[0m\u001b[1;36m98\u001b[0m\u001b[1;33m]\u001b[0m\u001b[1;33m;\u001b[0m\u001b[1;33m\u001b[0m\u001b[1;33m\u001b[0m\u001b[0m\n\u001b[0;32m     11\u001b[0m \u001b[1;33m\u001b[0m\u001b[0m\n\u001b[1;32m---> 12\u001b[1;33m \u001b[0mnocon\u001b[0m\u001b[1;33m(\u001b[0m\u001b[0ma\u001b[0m\u001b[1;33m,\u001b[0m\u001b[1;36m5\u001b[0m\u001b[1;33m)\u001b[0m\u001b[1;33m;\u001b[0m\u001b[1;33m\u001b[0m\u001b[1;33m\u001b[0m\u001b[0m\n\u001b[0m\u001b[0;32m     13\u001b[0m \u001b[1;33m\u001b[0m\u001b[0m\n\u001b[0;32m     14\u001b[0m \u001b[1;33m\u001b[0m\u001b[0m\n",
      "\u001b[1;32m<ipython-input-24-62a1337adc12>\u001b[0m in \u001b[0;36mnocon\u001b[1;34m(a, n)\u001b[0m\n\u001b[0;32m      2\u001b[0m \u001b[1;33m\u001b[0m\u001b[0m\n\u001b[0;32m      3\u001b[0m     \u001b[1;32mfor\u001b[0m \u001b[0mx\u001b[0m \u001b[1;32min\u001b[0m \u001b[0mrange\u001b[0m\u001b[1;33m(\u001b[0m\u001b[0mlen\u001b[0m\u001b[1;33m(\u001b[0m\u001b[0ma\u001b[0m\u001b[1;33m)\u001b[0m\u001b[1;33m)\u001b[0m\u001b[1;33m:\u001b[0m\u001b[1;33m\u001b[0m\u001b[1;33m\u001b[0m\u001b[0m\n\u001b[1;32m----> 4\u001b[1;33m         \u001b[1;32mif\u001b[0m\u001b[1;33m(\u001b[0m\u001b[0ma\u001b[0m\u001b[1;33m[\u001b[0m\u001b[0mx\u001b[0m\u001b[1;33m]\u001b[0m\u001b[1;33m%\u001b[0m\u001b[1;36m2\u001b[0m\u001b[1;33m!=\u001b[0m\u001b[1;36m0\u001b[0m\u001b[1;33m)\u001b[0m\u001b[1;33m:\u001b[0m\u001b[1;33m\u001b[0m\u001b[1;33m\u001b[0m\u001b[0m\n\u001b[0m\u001b[0;32m      5\u001b[0m             \u001b[0ma\u001b[0m\u001b[1;33m.\u001b[0m\u001b[0mremove\u001b[0m\u001b[1;33m(\u001b[0m\u001b[0ma\u001b[0m\u001b[1;33m[\u001b[0m\u001b[0mx\u001b[0m\u001b[1;33m]\u001b[0m\u001b[1;33m)\u001b[0m\u001b[1;33m;\u001b[0m\u001b[1;33m\u001b[0m\u001b[1;33m\u001b[0m\u001b[0m\n\u001b[0;32m      6\u001b[0m \u001b[1;33m\u001b[0m\u001b[0m\n",
      "\u001b[1;31mIndexError\u001b[0m: list index out of range"
     ]
    }
   ],
   "source": [
    "def nocon(a,n):\n",
    "    \n",
    "    for x in range(len(a)):\n",
    "        if(a[x]%2!=0):\n",
    "            a.remove(a[x]);\n",
    "\n",
    "print(a);\n",
    "        \n",
    "    \n",
    "a=[1,4,5,6,90,98];\n",
    "\n",
    "nocon(a,5);\n",
    "\n",
    "\n"
   ]
  },
  {
   "cell_type": "code",
   "execution_count": 29,
   "metadata": {},
   "outputs": [
    {
     "name": "stdout",
     "output_type": "stream",
     "text": [
      "1\n",
      "4\n",
      "3\n",
      "16\n",
      "5\n"
     ]
    }
   ],
   "source": [
    "def nocon(a,n):\n",
    "    for x in range(len(a)):\n",
    "        t=0;\n",
    "        if(x==0 or x==(len(a)-1)):\n",
    "            print(a[x]);\n",
    "        elif(a[x]%2==0):\n",
    "            t=a[x]*a[x];\n",
    "            print(t);\n",
    "        else:\n",
    "            print(a[x])\n",
    "        \n",
    "            \n",
    "   \n",
    "a=[1,2,3,4,5];\n",
    "\n",
    "nocon(a,5);\n"
   ]
  },
  {
   "cell_type": "code",
   "execution_count": 33,
   "metadata": {},
   "outputs": [
    {
     "name": "stdout",
     "output_type": "stream",
     "text": [
      "15\n",
      "34\n",
      "31\n",
      "28\n",
      "4\n"
     ]
    }
   ],
   "source": [
    "def nocon(a,n):\n",
    "    for x in range(len(a)):\n",
    "        t=0;\n",
    "        if(x==0 or x==(len(a)-1)):\n",
    "            print(a[x]);\n",
    "        else:\n",
    "            t=a[x]+a[x-1];\n",
    "            print(t);  \n",
    "   \n",
    "a=[15,19,12,16,4];\n",
    "\n",
    "nocon(a,5);\n"
   ]
  },
  {
   "cell_type": "code",
   "execution_count": null,
   "metadata": {},
   "outputs": [],
   "source": []
  }
 ],
 "metadata": {
  "kernelspec": {
   "display_name": "Python 3",
   "language": "python",
   "name": "python3"
  },
  "language_info": {
   "codemirror_mode": {
    "name": "ipython",
    "version": 3
   },
   "file_extension": ".py",
   "mimetype": "text/x-python",
   "name": "python",
   "nbconvert_exporter": "python",
   "pygments_lexer": "ipython3",
   "version": "3.7.3"
  }
 },
 "nbformat": 4,
 "nbformat_minor": 2
}
