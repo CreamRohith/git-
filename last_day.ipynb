{
  "nbformat": 4,
  "nbformat_minor": 0,
  "metadata": {
    "colab": {
      "name": "last day",
      "version": "0.3.2",
      "provenance": [],
      "collapsed_sections": [],
      "include_colab_link": true
    },
    "kernelspec": {
      "name": "python3",
      "display_name": "Python 3"
    }
  },
  "cells": [
    {
      "cell_type": "markdown",
      "metadata": {
        "id": "view-in-github",
        "colab_type": "text"
      },
      "source": [
        "<a href=\"https://colab.research.google.com/github/CreamRohith/git-/blob/master/last_day.ipynb\" target=\"_parent\"><img src=\"https://colab.research.google.com/assets/colab-badge.svg\" alt=\"Open In Colab\"/></a>"
      ]
    },
    {
      "cell_type": "code",
      "metadata": {
        "id": "PTjyDVPNVlJa",
        "colab_type": "code",
        "outputId": "4897cf24-30c2-4251-e75a-a5bb7e49008a",
        "colab": {
          "base_uri": "https://localhost:8080/",
          "height": 101
        }
      },
      "source": [
        "import pandas as pd\n",
        "a=pd.Series([1,2,3,4])\n",
        "print(a)"
      ],
      "execution_count": 0,
      "outputs": [
        {
          "output_type": "stream",
          "text": [
            "0    1\n",
            "1    2\n",
            "2    3\n",
            "3    4\n",
            "dtype: int64\n"
          ],
          "name": "stdout"
        }
      ]
    },
    {
      "cell_type": "code",
      "metadata": {
        "id": "HKCsRPl7YgRJ",
        "colab_type": "code",
        "outputId": "792ea31c-e20b-4d65-f4ea-1ca9765c2102",
        "colab": {
          "base_uri": "https://localhost:8080/",
          "height": 118
        }
      },
      "source": [
        "import numpy as np\n",
        "a1=pd.Series([1,2,3,np.nan,4])\n",
        "print(a1)"
      ],
      "execution_count": 0,
      "outputs": [
        {
          "output_type": "stream",
          "text": [
            "0    1.0\n",
            "1    2.0\n",
            "2    3.0\n",
            "3    NaN\n",
            "4    4.0\n",
            "dtype: float64\n"
          ],
          "name": "stdout"
        }
      ]
    },
    {
      "cell_type": "code",
      "metadata": {
        "id": "3_EWeDBSYgT4",
        "colab_type": "code",
        "outputId": "7f7c0168-8fea-47b3-ef03-499b721c8521",
        "colab": {
          "base_uri": "https://localhost:8080/",
          "height": 118
        }
      },
      "source": [
        "# craeate a date in a particular range\n",
        "dates=pd.date_range('20190608',periods=20)\n",
        "print(dates)"
      ],
      "execution_count": 0,
      "outputs": [
        {
          "output_type": "stream",
          "text": [
            "DatetimeIndex(['2019-06-08', '2019-06-09', '2019-06-10', '2019-06-11',\n",
            "               '2019-06-12', '2019-06-13', '2019-06-14', '2019-06-15',\n",
            "               '2019-06-16', '2019-06-17', '2019-06-18', '2019-06-19',\n",
            "               '2019-06-20', '2019-06-21', '2019-06-22', '2019-06-23',\n",
            "               '2019-06-24', '2019-06-25', '2019-06-26', '2019-06-27'],\n",
            "              dtype='datetime64[ns]', freq='D')\n"
          ],
          "name": "stdout"
        }
      ]
    },
    {
      "cell_type": "code",
      "metadata": {
        "id": "FjUR6cqRYgW5",
        "colab_type": "code",
        "outputId": "c3dd30c6-3763-460a-9564-e27026aab435",
        "colab": {
          "base_uri": "https://localhost:8080/",
          "height": 357
        }
      },
      "source": [
        "   a3=pd.DHYJ      'B':pd.Timestamp('20190608')})\n",
        "print(a3)"
      ],
      "execution_count": 0,
      "outputs": [
        {
          "output_type": "error",
          "ename": "ValueError",
          "evalue": "ignored",
          "traceback": [
            "\u001b[0;31m---------------------------------------------------------------------------\u001b[0m",
            "\u001b[0;31mValueError\u001b[0m                                Traceback (most recent call last)",
            "\u001b[0;32m<ipython-input-14-627e809b596e>\u001b[0m in \u001b[0;36m<module>\u001b[0;34m()\u001b[0m\n\u001b[1;32m      1\u001b[0m a3=pd.DataFrame({'A':1,\n\u001b[0;32m----> 2\u001b[0;31m                 'B':pd.Timestamp('20190608')})\n\u001b[0m\u001b[1;32m      3\u001b[0m \u001b[0mprint\u001b[0m\u001b[0;34m(\u001b[0m\u001b[0ma3\u001b[0m\u001b[0;34m)\u001b[0m\u001b[0;34m\u001b[0m\u001b[0;34m\u001b[0m\u001b[0m\n",
            "\u001b[0;32m/usr/local/lib/python3.6/dist-packages/pandas/core/frame.py\u001b[0m in \u001b[0;36m__init__\u001b[0;34m(self, data, index, columns, dtype, copy)\u001b[0m\n\u001b[1;32m    390\u001b[0m                                  dtype=dtype, copy=copy)\n\u001b[1;32m    391\u001b[0m         \u001b[0;32melif\u001b[0m \u001b[0misinstance\u001b[0m\u001b[0;34m(\u001b[0m\u001b[0mdata\u001b[0m\u001b[0;34m,\u001b[0m \u001b[0mdict\u001b[0m\u001b[0;34m)\u001b[0m\u001b[0;34m:\u001b[0m\u001b[0;34m\u001b[0m\u001b[0;34m\u001b[0m\u001b[0m\n\u001b[0;32m--> 392\u001b[0;31m             \u001b[0mmgr\u001b[0m \u001b[0;34m=\u001b[0m \u001b[0minit_dict\u001b[0m\u001b[0;34m(\u001b[0m\u001b[0mdata\u001b[0m\u001b[0;34m,\u001b[0m \u001b[0mindex\u001b[0m\u001b[0;34m,\u001b[0m \u001b[0mcolumns\u001b[0m\u001b[0;34m,\u001b[0m \u001b[0mdtype\u001b[0m\u001b[0;34m=\u001b[0m\u001b[0mdtype\u001b[0m\u001b[0;34m)\u001b[0m\u001b[0;34m\u001b[0m\u001b[0;34m\u001b[0m\u001b[0m\n\u001b[0m\u001b[1;32m    393\u001b[0m         \u001b[0;32melif\u001b[0m \u001b[0misinstance\u001b[0m\u001b[0;34m(\u001b[0m\u001b[0mdata\u001b[0m\u001b[0;34m,\u001b[0m \u001b[0mma\u001b[0m\u001b[0;34m.\u001b[0m\u001b[0mMaskedArray\u001b[0m\u001b[0;34m)\u001b[0m\u001b[0;34m:\u001b[0m\u001b[0;34m\u001b[0m\u001b[0;34m\u001b[0m\u001b[0m\n\u001b[1;32m    394\u001b[0m             \u001b[0;32mimport\u001b[0m \u001b[0mnumpy\u001b[0m\u001b[0;34m.\u001b[0m\u001b[0mma\u001b[0m\u001b[0;34m.\u001b[0m\u001b[0mmrecords\u001b[0m \u001b[0;32mas\u001b[0m \u001b[0mmrecords\u001b[0m\u001b[0;34m\u001b[0m\u001b[0;34m\u001b[0m\u001b[0m\n",
            "\u001b[0;32m/usr/local/lib/python3.6/dist-packages/pandas/core/internals/construction.py\u001b[0m in \u001b[0;36minit_dict\u001b[0;34m(data, index, columns, dtype)\u001b[0m\n\u001b[1;32m    210\u001b[0m         \u001b[0marrays\u001b[0m \u001b[0;34m=\u001b[0m \u001b[0;34m[\u001b[0m\u001b[0mdata\u001b[0m\u001b[0;34m[\u001b[0m\u001b[0mk\u001b[0m\u001b[0;34m]\u001b[0m \u001b[0;32mfor\u001b[0m \u001b[0mk\u001b[0m \u001b[0;32min\u001b[0m \u001b[0mkeys\u001b[0m\u001b[0;34m]\u001b[0m\u001b[0;34m\u001b[0m\u001b[0;34m\u001b[0m\u001b[0m\n\u001b[1;32m    211\u001b[0m \u001b[0;34m\u001b[0m\u001b[0m\n\u001b[0;32m--> 212\u001b[0;31m     \u001b[0;32mreturn\u001b[0m \u001b[0marrays_to_mgr\u001b[0m\u001b[0;34m(\u001b[0m\u001b[0marrays\u001b[0m\u001b[0;34m,\u001b[0m \u001b[0mdata_names\u001b[0m\u001b[0;34m,\u001b[0m \u001b[0mindex\u001b[0m\u001b[0;34m,\u001b[0m \u001b[0mcolumns\u001b[0m\u001b[0;34m,\u001b[0m \u001b[0mdtype\u001b[0m\u001b[0;34m=\u001b[0m\u001b[0mdtype\u001b[0m\u001b[0;34m)\u001b[0m\u001b[0;34m\u001b[0m\u001b[0;34m\u001b[0m\u001b[0m\n\u001b[0m\u001b[1;32m    213\u001b[0m \u001b[0;34m\u001b[0m\u001b[0m\n\u001b[1;32m    214\u001b[0m \u001b[0;34m\u001b[0m\u001b[0m\n",
            "\u001b[0;32m/usr/local/lib/python3.6/dist-packages/pandas/core/internals/construction.py\u001b[0m in \u001b[0;36marrays_to_mgr\u001b[0;34m(arrays, arr_names, index, columns, dtype)\u001b[0m\n\u001b[1;32m     49\u001b[0m     \u001b[0;31m# figure out the index, if necessary\u001b[0m\u001b[0;34m\u001b[0m\u001b[0;34m\u001b[0m\u001b[0;34m\u001b[0m\u001b[0m\n\u001b[1;32m     50\u001b[0m     \u001b[0;32mif\u001b[0m \u001b[0mindex\u001b[0m \u001b[0;32mis\u001b[0m \u001b[0;32mNone\u001b[0m\u001b[0;34m:\u001b[0m\u001b[0;34m\u001b[0m\u001b[0;34m\u001b[0m\u001b[0m\n\u001b[0;32m---> 51\u001b[0;31m         \u001b[0mindex\u001b[0m \u001b[0;34m=\u001b[0m \u001b[0mextract_index\u001b[0m\u001b[0;34m(\u001b[0m\u001b[0marrays\u001b[0m\u001b[0;34m)\u001b[0m\u001b[0;34m\u001b[0m\u001b[0;34m\u001b[0m\u001b[0m\n\u001b[0m\u001b[1;32m     52\u001b[0m     \u001b[0;32melse\u001b[0m\u001b[0;34m:\u001b[0m\u001b[0;34m\u001b[0m\u001b[0;34m\u001b[0m\u001b[0m\n\u001b[1;32m     53\u001b[0m         \u001b[0mindex\u001b[0m \u001b[0;34m=\u001b[0m \u001b[0mensure_index\u001b[0m\u001b[0;34m(\u001b[0m\u001b[0mindex\u001b[0m\u001b[0;34m)\u001b[0m\u001b[0;34m\u001b[0m\u001b[0;34m\u001b[0m\u001b[0m\n",
            "\u001b[0;32m/usr/local/lib/python3.6/dist-packages/pandas/core/internals/construction.py\u001b[0m in \u001b[0;36mextract_index\u001b[0;34m(data)\u001b[0m\n\u001b[1;32m    306\u001b[0m \u001b[0;34m\u001b[0m\u001b[0m\n\u001b[1;32m    307\u001b[0m         \u001b[0;32mif\u001b[0m \u001b[0;32mnot\u001b[0m \u001b[0mindexes\u001b[0m \u001b[0;32mand\u001b[0m \u001b[0;32mnot\u001b[0m \u001b[0mraw_lengths\u001b[0m\u001b[0;34m:\u001b[0m\u001b[0;34m\u001b[0m\u001b[0;34m\u001b[0m\u001b[0m\n\u001b[0;32m--> 308\u001b[0;31m             raise ValueError('If using all scalar values, you must pass'\n\u001b[0m\u001b[1;32m    309\u001b[0m                              ' an index')\n\u001b[1;32m    310\u001b[0m \u001b[0;34m\u001b[0m\u001b[0m\n",
            "\u001b[0;31mValueError\u001b[0m: If using all scalar values, you must pass an index"
          ]
        }
      ]
    },
    {
      "cell_type": "code",
      "metadata": {
        "id": "xFaXN_XMYgZ5",
        "colab_type": "code",
        "colab": {}
      },
      "source": [
        "import turtle as tt\n",
        "a1=tt.turtle()\n",
        "colors=['red',\"blue\"]\n",
        ".0dotdistance=10\n",
        "a.distofcolours=\"bluegreen\"\n"
      ],
      "execution_count": 0,
      "outputs": []
    },
    {
      "cell_type": "code",
      "metadata": {
        "id": "Bu3OLDlQYgco",
        "colab_type": "code",
        "colab": {}
      },
      "source": [
        "import turtle as tt\n",
        "a1=tt.Turtle()\n",
        "a1.forward(150)\n",
        "a1.right(90)\n",
        "\n",
        "a1.forward(150)\n",
        "a1.right(90)\n",
        "\n",
        "a1.forward(150)\n",
        "a1.right(90)\n",
        "\n",
        "a1.forward(150)\n",
        "a1.right(90)\n",
        "\n",
        "tt.done"
      ],
      "execution_count": 0,
      "outputs": []
    },
    {
      "cell_type": "code",
      "metadata": {
        "id": "BQGUOd3PYgfo",
        "colab_type": "code",
        "colab": {}
      },
      "source": [
        "import turtle as tt\n",
        "a1 = tt.Turtle()\n",
        "for x in range (40):\n",
        "    a1.forward(50)\n",
        "    a1.right(144)\n",
        "tt.done"
      ],
      "execution_count": 0,
      "outputs": []
    },
    {
      "cell_type": "code",
      "metadata": {
        "id": "8x0oZlexYgig",
        "colab_type": "code",
        "colab": {}
      },
      "source": [
        "import turtle as tt\n",
        "\n",
        "c1=tt.Turtle()\n",
        "c1.pencolor(\"blue\")\n",
        "for i in range(50):\n",
        "    c1.forward(50)\n",
        "    c1.left(123)\n",
        "    \n",
        "c1.pencolor(\"red\")\n",
        "for i in range(50):\n",
        "    c1.forward(50)\n",
        "    c1.left(123)\n",
        "    \n",
        "tt.done()\n",
        "----------------------------"
      ],
      "execution_count": 0,
      "outputs": []
    },
    {
      "cell_type": "code",
      "metadata": {
        "id": "knRunOl2Yglo",
        "colab_type": "code",
        "colab": {}
      },
      "source": [
        "import turtle as tt\n",
        "\n",
        "colors=['red','blue','orange','green','yellow','purple']\n",
        "\n",
        "a1=tt.Turtle()\n",
        "\n",
        "for x in range(360):\n",
        "    a1.pencolor(colors[x%6])\n",
        "    a1.width(x/100+1)\n",
        "    a1.forward(x)\n",
        "    a1.left(59)\n",
        "    \n",
        "tt.done()"
      ],
      "execution_count": 0,
      "outputs": []
    },
    {
      "cell_type": "code",
      "metadata": {
        "id": "iA7YkB6tYgpJ",
        "colab_type": "code",
        "colab": {}
      },
      "source": [
        "import turtle as tt\n",
        "a1 = tt.Turtle()\n",
        "\n",
        "colors=['red','blue','orange','green','yellow','purple']\n",
        "dot_distance=10\n",
        "width=10\n",
        "height=15\n",
        "\n",
        "a1.penup()\n",
        "\n",
        "for x in range(height):\n",
        "    a1.pencolor(colors[x%6])\n",
        "    for i in range(width):\n",
        "      a1.dot()\n",
        "      a1.forward(dot_distance)\n",
        "    a1.forward(dot_distance * width)\n",
        "    a1.right(90)\n",
        "    a1.forward(dot_distance * width)\n",
        "    a1.left(90)\n",
        "\n",
        "tt.done()"
      ],
      "execution_count": 0,
      "outputs": []
    },
    {
      "cell_type": "code",
      "metadata": {
        "id": "01d5X2b3YgsJ",
        "colab_type": "code",
        "colab": {}
      },
      "source": [
        "import turtle as tt\n",
        "a1=tt.Turtle\n",
        "tt.foward(100)\n",
        "tt.done() "
      ],
      "execution_count": 0,
      "outputs": []
    },
    {
      "cell_type": "code",
      "metadata": {
        "id": "GrADkPB9Dmb1",
        "colab_type": "code",
        "colab": {}
      },
      "source": [
        "from turtle import *\n",
        "import random\n",
        "\n",
        "for n in range(50):\n",
        "    penup()\n",
        "    goto(random.randint(-400,400),random.randint(-400,400))\n",
        "    pendown()\n",
        "    \n",
        "    red_amount = random.randint(0,30)/100.0\n",
        "    blue_amount = random.randint(50,100)/100.0\n",
        "    green_amount = random.randint(0,30)/100.0\n",
        "    \n",
        "    pencolor((red_amount,blue_amount,green_amount))\n",
        "    \n",
        "    circle_size = random.randint(10,40)\n",
        "    pensize(random.randint(4,6))\n",
        "    \n",
        "    for i in range(6):\n",
        "        circle(circle_size)\n",
        "        left(60)"
      ],
      "execution_count": 0,
      "outputs": []
    },
    {
      "cell_type": "code",
      "metadata": {
        "id": "by5-zw1ODmiU",
        "colab_type": "code",
        "colab": {}
      },
      "source": [
        "def main():\n",
        "    colors=(\"red\",\"orange\",\"yellow\",\"seagreen4\",\"orchid4\",\"royalblue1\",\"dodgerblue2\")\n",
        "    reset()\n",
        "    screen()\n",
        "    up()\n",
        "    goto(-320,-195)\n",
        "    width(70)\n",
        "    for pcolor in colors:\n",
        "        color(pcolor)\n",
        "        down()\n",
        "        forward(640)\n",
        "        up()\n",
        "        backward(640)\n",
        "        left(90)\n",
        "        forward(66)\n",
        "        right(90)\n",
        "        \n",
        "    width(55)\n",
        "    color(\"white\")\n",
        "    goto(0,-170)\n",
        "    down()\n",
        "    \n",
        "    circle(170)\n",
        "    left(90)\n",
        "    forward(340)\n",
        "    up()\n",
        "    left(180)\n",
        "    forward(170)\n",
        "    right(45)\n",
        "    down()\n",
        "    forward(170)\n",
        "    up()\n",
        "    backward(170)\n",
        "    left(90)\n",
        "    down()\n",
        "    forward(170)\n",
        "    up()\n",
        "    goto(0,300)\n",
        "    \n",
        "if __name__==\"__main__\":\n",
        "    main()\n",
        "    mainloop()\n",
        "tt.done"
      ],
      "execution_count": 0,
      "outputs": []
    },
    {
      "cell_type": "code",
      "metadata": {
        "id": "X_j92U80Dml_",
        "colab_type": "code",
        "colab": {}
      },
      "source": [
        "from turtle import *\n",
        "\n",
        "N=80\n",
        "\n",
        "def f(x):\n",
        "    return 3.9*x*(1-x)\n",
        "\n",
        "def g(x):\n",
        "    return 3.9*(x-x**2)\n",
        "\n",
        "def h(x):\n",
        "    return 3.9*x-3.9*x*x\n",
        "\n",
        "def jumpto(x,y):\n",
        "    penup()\n",
        "    goto(x,y)\n",
        "\n",
        "def line(x1,y1,x2,y2):\n",
        "    jumpto(x1,y1)\n",
        "    pendown()\n",
        "    jumpto(x2,y2)\n",
        "    \n",
        "def cooosys(fun,start,color):\n",
        "    pencolor(color)\n",
        "    x=start\n",
        "    jumpto(0,x)\n",
        "    pendown()\n",
        "    dot(5)\n",
        "    \n",
        "def main():\n",
        "    reset()\n",
        "    setworldcoordinates(-1.0,-1.0,N+1,1.1)\n",
        "    speed(0)\n",
        "    hideturtle()\n",
        "    coosys()\n",
        "    plot(f,0.35,\"blue\")\n",
        "    plot(g,0.35,\"green\")\n",
        "    plot(h,0.35,\"red\")"
      ],
      "execution_count": 0,
      "outputs": []
    },
    {
      "cell_type": "code",
      "metadata": {
        "id": "ZXZ837e1DmpL",
        "colab_type": "code",
        "colab": {}
      },
      "source": [
        ""
      ],
      "execution_count": 0,
      "outputs": []
    }
  ]
}